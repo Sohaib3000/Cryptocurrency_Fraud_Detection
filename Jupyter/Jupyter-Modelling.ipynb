{
 "cells": [
  {
   "cell_type": "code",
   "execution_count": 5,
   "id": "c63edd9f-ea29-474f-aaba-a42adf3e8858",
   "metadata": {},
   "outputs": [],
   "source": [
    "import pyforest\n",
    "import warnings\n",
    "warnings.filterwarnings(\"ignore\")\n",
    "from sklearn import metrics\n",
    "from sklearn.metrics import accuracy_score"
   ]
  },
  {
   "cell_type": "code",
   "execution_count": 6,
   "id": "7b572b24-7bda-4845-b4d1-181c3373c9f7",
   "metadata": {},
   "outputs": [],
   "source": [
    "from sklearn.linear_model import LogisticRegressionCV\n",
    "from sklearn.linear_model import LogisticRegression\n",
    "from sklearn.ensemble import GradientBoostingClassifier\n",
    "from sklearn.ensemble import RandomForestClassifier\n",
    "from sklearn.linear_model import SGDClassifier\n",
    "from sklearn.svm import LinearSVC\n",
    "from sklearn.linear_model import PassiveAggressiveClassifier"
   ]
  },
  {
   "cell_type": "code",
   "execution_count": 7,
   "id": "61d9cb3f-4463-4792-b9e2-37d80f30ec0c",
   "metadata": {},
   "outputs": [],
   "source": [
    "from xgboost import XGBClassifier"
   ]
  },
  {
   "cell_type": "code",
   "execution_count": 8,
   "id": "7c878472-dd42-4dc6-bfc7-661d06141157",
   "metadata": {},
   "outputs": [
    {
     "data": {
      "application/javascript": [
       "\n",
       "        if (window._pyforest_update_imports_cell) { window._pyforest_update_imports_cell('import pandas as pd'); }\n",
       "    "
      ],
      "text/plain": [
       "<IPython.core.display.Javascript object>"
      ]
     },
     "metadata": {},
     "output_type": "display_data"
    },
    {
     "data": {
      "application/javascript": [
       "\n",
       "        if (window._pyforest_update_imports_cell) { window._pyforest_update_imports_cell('import pandas as pd\\nfrom sklearn.model_selection import train_test_split'); }\n",
       "    "
      ],
      "text/plain": [
       "<IPython.core.display.Javascript object>"
      ]
     },
     "metadata": {},
     "output_type": "display_data"
    }
   ],
   "source": [
    "df = pd.read_csv('Data/dataset.csv')\n",
    "\n",
    "df = df.drop(columns='Unnamed: 0')\n",
    "\n",
    "features = df.iloc[:,2:]\n",
    "\n",
    "y = df['class']\n",
    "\n",
    "\n",
    "X_train, X_test, y_train, y_test = train_test_split(features, y, random_state=42)"
   ]
  },
  {
   "cell_type": "code",
   "execution_count": 35,
   "id": "51cc0616-3492-445b-811f-48676620d5ae",
   "metadata": {},
   "outputs": [
    {
     "data": {
      "text/plain": [
       "2    31540\n",
       "1     3383\n",
       "Name: class, dtype: int64"
      ]
     },
     "execution_count": 35,
     "metadata": {},
     "output_type": "execute_result"
    }
   ],
   "source": [
    "y_train.value_counts()"
   ]
  },
  {
   "cell_type": "code",
   "execution_count": 36,
   "id": "e424f33c-1c9e-4193-802b-631c654a7dd7",
   "metadata": {},
   "outputs": [
    {
     "data": {
      "text/plain": [
       "34923"
      ]
     },
     "execution_count": 36,
     "metadata": {},
     "output_type": "execute_result"
    }
   ],
   "source": [
    "31540 + 3383 "
   ]
  },
  {
   "cell_type": "code",
   "execution_count": 38,
   "id": "dd8fdfa2-7a15-48a0-9ecc-f419b1ce77fe",
   "metadata": {},
   "outputs": [
    {
     "data": {
      "text/plain": [
       "9.687025742347451"
      ]
     },
     "execution_count": 38,
     "metadata": {},
     "output_type": "execute_result"
    }
   ],
   "source": [
    "3383 / 34923 * 100"
   ]
  },
  {
   "cell_type": "code",
   "execution_count": 39,
   "id": "ca545edf-4551-4785-8894-2a18571115af",
   "metadata": {},
   "outputs": [
    {
     "data": {
      "text/plain": [
       "2    10479\n",
       "1     1162\n",
       "Name: class, dtype: int64"
      ]
     },
     "execution_count": 39,
     "metadata": {},
     "output_type": "execute_result"
    }
   ],
   "source": [
    "y_test.value_counts()"
   ]
  },
  {
   "cell_type": "code",
   "execution_count": null,
   "id": "c9f29bd2-9848-49e8-ae27-76ee21d7209b",
   "metadata": {},
   "outputs": [],
   "source": []
  },
  {
   "cell_type": "code",
   "execution_count": 3,
   "id": "631cb188-8646-46f6-9451-170d8d73ac55",
   "metadata": {},
   "outputs": [],
   "source": [
    "import lazypredict\n",
    "from lazypredict.Supervised import LazyClassifier"
   ]
  },
  {
   "cell_type": "code",
   "execution_count": 6,
   "id": "555f873a-e727-4a96-a682-854b484b394d",
   "metadata": {},
   "outputs": [
    {
     "name": "stderr",
     "output_type": "stream",
     "text": [
      "100%|██████████| 18/18 [00:00<00:00, 4300.38it/s]\n"
     ]
    },
    {
     "data": {
      "text/html": [
       "<div>\n",
       "<style scoped>\n",
       "    .dataframe tbody tr th:only-of-type {\n",
       "        vertical-align: middle;\n",
       "    }\n",
       "\n",
       "    .dataframe tbody tr th {\n",
       "        vertical-align: top;\n",
       "    }\n",
       "\n",
       "    .dataframe thead th {\n",
       "        text-align: right;\n",
       "    }\n",
       "</style>\n",
       "<table border=\"1\" class=\"dataframe\">\n",
       "  <thead>\n",
       "    <tr style=\"text-align: right;\">\n",
       "      <th></th>\n",
       "      <th>Accuracy</th>\n",
       "      <th>Balanced Accuracy</th>\n",
       "      <th>ROC AUC</th>\n",
       "      <th>F1 Score</th>\n",
       "      <th>Time Taken</th>\n",
       "    </tr>\n",
       "    <tr>\n",
       "      <th>Model</th>\n",
       "      <th></th>\n",
       "      <th></th>\n",
       "      <th></th>\n",
       "      <th></th>\n",
       "      <th></th>\n",
       "    </tr>\n",
       "  </thead>\n",
       "  <tbody>\n",
       "  </tbody>\n",
       "</table>\n",
       "</div>"
      ],
      "text/plain": [
       "Empty DataFrame\n",
       "Columns: [Accuracy, Balanced Accuracy, ROC AUC, F1 Score, Time Taken]\n",
       "Index: []"
      ]
     },
     "execution_count": 6,
     "metadata": {},
     "output_type": "execute_result"
    }
   ],
   "source": [
    "clf = LazyClassifier(verbose=0,ignore_warnings=True,classifiers='LogisticRegression')\n",
    "models, predictions = clf.fit(X_train, X_test, y_train, y_test)\n",
    "models"
   ]
  },
  {
   "cell_type": "code",
   "execution_count": 14,
   "id": "7f1591d9-ce04-4c3f-b9e4-db28fd923783",
   "metadata": {},
   "outputs": [],
   "source": [
    "models = [LogisticRegression,LogisticRegressionCV,LinearSVC,SGDClassifier,PassiveAggressiveClassifier,RandomForestClassifier,GradientBoostingClassifier,XGBClassifier]"
   ]
  },
  {
   "cell_type": "code",
   "execution_count": 2,
   "id": "f3f473b6-e50e-455c-872f-06e071ef796b",
   "metadata": {},
   "outputs": [],
   "source": [
    "from sklearn.metrics import f1_score"
   ]
  },
  {
   "cell_type": "code",
   "execution_count": 9,
   "id": "cfda2778-1c50-40fb-aac2-0a025916886a",
   "metadata": {},
   "outputs": [],
   "source": [
    "def score(model):\n",
    "    clf = model()\n",
    "    clf.fit(X_train,y_train)\n",
    "    y_pred = clf.predict(X_test)\n",
    "    return accuracy_score(y_test,y_pred), f1_score(y_test,y_pred)"
   ]
  },
  {
   "cell_type": "code",
   "execution_count": 11,
   "id": "8a73f143-332e-43ab-acb4-568f0c286cc9",
   "metadata": {},
   "outputs": [
    {
     "data": {
      "text/plain": [
       "0.7532956685499058"
      ]
     },
     "execution_count": 11,
     "metadata": {},
     "output_type": "execute_result"
    }
   ],
   "source": [
    "score(LogisticRegression)[1]"
   ]
  },
  {
   "cell_type": "code",
   "execution_count": 13,
   "id": "0a151881-e131-4eea-b2e9-3f652249f296",
   "metadata": {},
   "outputs": [],
   "source": [
    "a = []"
   ]
  },
  {
   "cell_type": "code",
   "execution_count": 14,
   "id": "4ee66ac5-aefb-473a-8207-a441aa74772e",
   "metadata": {},
   "outputs": [],
   "source": [
    "for model in models:\n",
    "    a.append(str(model))"
   ]
  },
  {
   "cell_type": "code",
   "execution_count": 15,
   "id": "78380f84-0f1d-466d-abd8-18d318994aa2",
   "metadata": {},
   "outputs": [
    {
     "data": {
      "text/plain": [
       "[\"<class 'sklearn.linear_model._logistic.LogisticRegression'>\",\n",
       " \"<class 'sklearn.linear_model._logistic.LogisticRegressionCV'>\",\n",
       " \"<class 'sklearn.svm._classes.LinearSVC'>\",\n",
       " \"<class 'sklearn.linear_model._stochastic_gradient.SGDClassifier'>\",\n",
       " \"<class 'sklearn.linear_model._passive_aggressive.PassiveAggressiveClassifier'>\",\n",
       " \"<class 'sklearn.ensemble._forest.RandomForestClassifier'>\",\n",
       " \"<class 'sklearn.ensemble._gb.GradientBoostingClassifier'>\",\n",
       " \"<class 'xgboost.sklearn.XGBClassifier'>\"]"
      ]
     },
     "execution_count": 15,
     "metadata": {},
     "output_type": "execute_result"
    }
   ],
   "source": [
    "LogisticRegression."
   ]
  },
  {
   "cell_type": "code",
   "execution_count": 12,
   "id": "2a417f27-4154-4174-8eb6-b95e66bd5ed8",
   "metadata": {},
   "outputs": [],
   "source": [
    "from tqdm import tqdm"
   ]
  },
  {
   "cell_type": "code",
   "execution_count": 15,
   "id": "95afc2f6-e4ad-47b8-98b3-fce2cf3007f5",
   "metadata": {},
   "outputs": [
    {
     "name": "stderr",
     "output_type": "stream",
     "text": [
      "100%|██████████| 8/8 [09:18<00:00, 69.80s/it]\n"
     ]
    }
   ],
   "source": [
    "a = []\n",
    "b = []\n",
    "c = []\n",
    "for model in tqdm(models):\n",
    "    a.append(score(model)[0])\n",
    "    c.append(score(model)[1])\n",
    "    b.append(str(model))"
   ]
  },
  {
   "cell_type": "code",
   "execution_count": 16,
   "id": "d754fea2-cb57-44e6-b93f-cb0240f6ee32",
   "metadata": {},
   "outputs": [
    {
     "data": {
      "application/javascript": [
       "\n",
       "        if (window._pyforest_update_imports_cell) { window._pyforest_update_imports_cell('import pandas as pd\\nfrom sklearn.model_selection import train_test_split'); }\n",
       "    "
      ],
      "text/plain": [
       "<IPython.core.display.Javascript object>"
      ]
     },
     "metadata": {},
     "output_type": "display_data"
    }
   ],
   "source": [
    "test = pd.DataFrame(data=[b,a,c])"
   ]
  },
  {
   "cell_type": "code",
   "execution_count": 17,
   "id": "e9e3694a-c48d-4d25-b2a2-76e3acea4f16",
   "metadata": {},
   "outputs": [],
   "source": [
    "test = test.T"
   ]
  },
  {
   "cell_type": "code",
   "execution_count": 25,
   "id": "21211f35-5d78-452d-a4c4-eae61d24466c",
   "metadata": {},
   "outputs": [],
   "source": [
    "import re"
   ]
  },
  {
   "cell_type": "code",
   "execution_count": 30,
   "id": "7efbe88d-b6b8-4c4c-8090-a497024853e9",
   "metadata": {},
   "outputs": [],
   "source": [
    "z = []\n",
    "for i in b:\n",
    "    i = re.sub(\"<class '\\w+.\\w+._\\w+.|'>\",\"\",i)\n",
    "    z.append(i)"
   ]
  },
  {
   "cell_type": "code",
   "execution_count": 31,
   "id": "2d64d1b5-d261-4437-8885-7c6b11818e43",
   "metadata": {},
   "outputs": [
    {
     "data": {
      "text/plain": [
       "['LogisticRegression',\n",
       " 'LogisticRegressionCV',\n",
       " 'LinearSVC',\n",
       " 'SGDClassifier',\n",
       " 'PassiveAggressiveClassifier',\n",
       " 'RandomForestClassifier',\n",
       " 'GradientBoostingClassifier',\n",
       " \"<class 'xgboost.sklearn.XGBClassifier\"]"
      ]
     },
     "execution_count": 31,
     "metadata": {},
     "output_type": "execute_result"
    }
   ],
   "source": [
    "z"
   ]
  },
  {
   "cell_type": "code",
   "execution_count": 18,
   "id": "62c40ea2-e954-41bb-998f-8a76e27368a0",
   "metadata": {},
   "outputs": [],
   "source": [
    "z = ['LogisticRegression',\n",
    " 'LogisticRegressionCV',\n",
    " 'LinearSVC',\n",
    " 'SGDClassifier',\n",
    " 'PassiveAggressiveClassifier',\n",
    " 'RandomForestClassifier',\n",
    " 'GradientBoostingClassifier',\n",
    " 'XGBClassifier']"
   ]
  },
  {
   "cell_type": "code",
   "execution_count": 19,
   "id": "bf54dbed-f10d-4cc7-90b1-65b9e3c8f983",
   "metadata": {},
   "outputs": [
    {
     "data": {
      "text/html": [
       "<div>\n",
       "<style scoped>\n",
       "    .dataframe tbody tr th:only-of-type {\n",
       "        vertical-align: middle;\n",
       "    }\n",
       "\n",
       "    .dataframe tbody tr th {\n",
       "        vertical-align: top;\n",
       "    }\n",
       "\n",
       "    .dataframe thead th {\n",
       "        text-align: right;\n",
       "    }\n",
       "</style>\n",
       "<table border=\"1\" class=\"dataframe\">\n",
       "  <thead>\n",
       "    <tr style=\"text-align: right;\">\n",
       "      <th></th>\n",
       "      <th>0</th>\n",
       "      <th>1</th>\n",
       "      <th>2</th>\n",
       "      <th>Model</th>\n",
       "    </tr>\n",
       "  </thead>\n",
       "  <tbody>\n",
       "    <tr>\n",
       "      <th>0</th>\n",
       "      <td>&lt;class 'sklearn.linear_model._logistic.Logisti...</td>\n",
       "      <td>0.954987</td>\n",
       "      <td>0.753296</td>\n",
       "      <td>LogisticRegression</td>\n",
       "    </tr>\n",
       "    <tr>\n",
       "      <th>1</th>\n",
       "      <td>&lt;class 'sklearn.linear_model._logistic.Logisti...</td>\n",
       "      <td>0.970363</td>\n",
       "      <td>0.841525</td>\n",
       "      <td>LogisticRegressionCV</td>\n",
       "    </tr>\n",
       "    <tr>\n",
       "      <th>2</th>\n",
       "      <td>&lt;class 'sklearn.svm._classes.LinearSVC'&gt;</td>\n",
       "      <td>0.970449</td>\n",
       "      <td>0.834356</td>\n",
       "      <td>LinearSVC</td>\n",
       "    </tr>\n",
       "    <tr>\n",
       "      <th>3</th>\n",
       "      <td>&lt;class 'sklearn.linear_model._stochastic_gradi...</td>\n",
       "      <td>0.945881</td>\n",
       "      <td>0.759041</td>\n",
       "      <td>SGDClassifier</td>\n",
       "    </tr>\n",
       "    <tr>\n",
       "      <th>4</th>\n",
       "      <td>&lt;class 'sklearn.linear_model._passive_aggressi...</td>\n",
       "      <td>0.939266</td>\n",
       "      <td>0.624426</td>\n",
       "      <td>PassiveAggressiveClassifier</td>\n",
       "    </tr>\n",
       "    <tr>\n",
       "      <th>5</th>\n",
       "      <td>&lt;class 'sklearn.ensemble._forest.RandomForestC...</td>\n",
       "      <td>0.986599</td>\n",
       "      <td>0.928243</td>\n",
       "      <td>RandomForestClassifier</td>\n",
       "    </tr>\n",
       "    <tr>\n",
       "      <th>6</th>\n",
       "      <td>&lt;class 'sklearn.ensemble._gb.GradientBoostingC...</td>\n",
       "      <td>0.984022</td>\n",
       "      <td>0.913969</td>\n",
       "      <td>GradientBoostingClassifier</td>\n",
       "    </tr>\n",
       "    <tr>\n",
       "      <th>7</th>\n",
       "      <td>&lt;class 'xgboost.sklearn.XGBClassifier'&gt;</td>\n",
       "      <td>0.990551</td>\n",
       "      <td>0.950673</td>\n",
       "      <td>XGBClassifier</td>\n",
       "    </tr>\n",
       "  </tbody>\n",
       "</table>\n",
       "</div>"
      ],
      "text/plain": [
       "                                                   0         1         2  \\\n",
       "0  <class 'sklearn.linear_model._logistic.Logisti...  0.954987  0.753296   \n",
       "1  <class 'sklearn.linear_model._logistic.Logisti...  0.970363  0.841525   \n",
       "2           <class 'sklearn.svm._classes.LinearSVC'>  0.970449  0.834356   \n",
       "3  <class 'sklearn.linear_model._stochastic_gradi...  0.945881  0.759041   \n",
       "4  <class 'sklearn.linear_model._passive_aggressi...  0.939266  0.624426   \n",
       "5  <class 'sklearn.ensemble._forest.RandomForestC...  0.986599  0.928243   \n",
       "6  <class 'sklearn.ensemble._gb.GradientBoostingC...  0.984022  0.913969   \n",
       "7            <class 'xgboost.sklearn.XGBClassifier'>  0.990551  0.950673   \n",
       "\n",
       "                         Model  \n",
       "0           LogisticRegression  \n",
       "1         LogisticRegressionCV  \n",
       "2                    LinearSVC  \n",
       "3                SGDClassifier  \n",
       "4  PassiveAggressiveClassifier  \n",
       "5       RandomForestClassifier  \n",
       "6   GradientBoostingClassifier  \n",
       "7                XGBClassifier  "
      ]
     },
     "execution_count": 19,
     "metadata": {},
     "output_type": "execute_result"
    }
   ],
   "source": [
    "test['Model'] = z\n",
    "test"
   ]
  },
  {
   "cell_type": "code",
   "execution_count": 41,
   "id": "89bb048a-1232-4b51-a37b-d8ff68e712b7",
   "metadata": {},
   "outputs": [
    {
     "data": {
      "text/plain": [
       "8"
      ]
     },
     "execution_count": 41,
     "metadata": {},
     "output_type": "execute_result"
    }
   ],
   "source": [
    "len(z)"
   ]
  },
  {
   "cell_type": "code",
   "execution_count": 52,
   "id": "dc242d73-b409-4195-80ec-5cde5b712f56",
   "metadata": {},
   "outputs": [
    {
     "data": {
      "text/plain": [
       "(8, 2)"
      ]
     },
     "execution_count": 52,
     "metadata": {},
     "output_type": "execute_result"
    }
   ],
   "source": [
    "test.shape"
   ]
  },
  {
   "cell_type": "code",
   "execution_count": 20,
   "id": "2bfc8eed-596d-44dd-b102-6ffa949ef6ca",
   "metadata": {},
   "outputs": [],
   "source": [
    "test = test.loc[:,['Model',1,2]]"
   ]
  },
  {
   "cell_type": "code",
   "execution_count": 21,
   "id": "796bd9bc-ad60-4779-b0e7-e8100c363f84",
   "metadata": {},
   "outputs": [],
   "source": [
    "test.columns = ['Model','Accuracy Score','F1 Score']"
   ]
  },
  {
   "cell_type": "code",
   "execution_count": 22,
   "id": "ee32bb8a-f7ce-43c7-a5c5-81b571ec52ad",
   "metadata": {},
   "outputs": [
    {
     "data": {
      "text/html": [
       "<div>\n",
       "<style scoped>\n",
       "    .dataframe tbody tr th:only-of-type {\n",
       "        vertical-align: middle;\n",
       "    }\n",
       "\n",
       "    .dataframe tbody tr th {\n",
       "        vertical-align: top;\n",
       "    }\n",
       "\n",
       "    .dataframe thead th {\n",
       "        text-align: right;\n",
       "    }\n",
       "</style>\n",
       "<table border=\"1\" class=\"dataframe\">\n",
       "  <thead>\n",
       "    <tr style=\"text-align: right;\">\n",
       "      <th></th>\n",
       "      <th>Model</th>\n",
       "      <th>Accuracy Score</th>\n",
       "      <th>F1 Score</th>\n",
       "    </tr>\n",
       "  </thead>\n",
       "  <tbody>\n",
       "    <tr>\n",
       "      <th>0</th>\n",
       "      <td>LogisticRegression</td>\n",
       "      <td>0.954987</td>\n",
       "      <td>0.753296</td>\n",
       "    </tr>\n",
       "    <tr>\n",
       "      <th>1</th>\n",
       "      <td>LogisticRegressionCV</td>\n",
       "      <td>0.970363</td>\n",
       "      <td>0.841525</td>\n",
       "    </tr>\n",
       "    <tr>\n",
       "      <th>2</th>\n",
       "      <td>LinearSVC</td>\n",
       "      <td>0.970449</td>\n",
       "      <td>0.834356</td>\n",
       "    </tr>\n",
       "    <tr>\n",
       "      <th>3</th>\n",
       "      <td>SGDClassifier</td>\n",
       "      <td>0.945881</td>\n",
       "      <td>0.759041</td>\n",
       "    </tr>\n",
       "    <tr>\n",
       "      <th>4</th>\n",
       "      <td>PassiveAggressiveClassifier</td>\n",
       "      <td>0.939266</td>\n",
       "      <td>0.624426</td>\n",
       "    </tr>\n",
       "    <tr>\n",
       "      <th>5</th>\n",
       "      <td>RandomForestClassifier</td>\n",
       "      <td>0.986599</td>\n",
       "      <td>0.928243</td>\n",
       "    </tr>\n",
       "    <tr>\n",
       "      <th>6</th>\n",
       "      <td>GradientBoostingClassifier</td>\n",
       "      <td>0.984022</td>\n",
       "      <td>0.913969</td>\n",
       "    </tr>\n",
       "    <tr>\n",
       "      <th>7</th>\n",
       "      <td>XGBClassifier</td>\n",
       "      <td>0.990551</td>\n",
       "      <td>0.950673</td>\n",
       "    </tr>\n",
       "  </tbody>\n",
       "</table>\n",
       "</div>"
      ],
      "text/plain": [
       "                         Model Accuracy Score  F1 Score\n",
       "0           LogisticRegression       0.954987  0.753296\n",
       "1         LogisticRegressionCV       0.970363  0.841525\n",
       "2                    LinearSVC       0.970449  0.834356\n",
       "3                SGDClassifier       0.945881  0.759041\n",
       "4  PassiveAggressiveClassifier       0.939266  0.624426\n",
       "5       RandomForestClassifier       0.986599  0.928243\n",
       "6   GradientBoostingClassifier       0.984022  0.913969\n",
       "7                XGBClassifier       0.990551  0.950673"
      ]
     },
     "execution_count": 22,
     "metadata": {},
     "output_type": "execute_result"
    }
   ],
   "source": [
    "test"
   ]
  },
  {
   "cell_type": "code",
   "execution_count": 53,
   "id": "aa88434f-decf-47dc-b53f-8f2eaab027bb",
   "metadata": {},
   "outputs": [
    {
     "data": {
      "application/javascript": [
       "\n",
       "        if (window._pyforest_update_imports_cell) { window._pyforest_update_imports_cell('import pandas as pd\\nfrom sklearn.model_selection import train_test_split'); }\n",
       "    "
      ],
      "text/plain": [
       "<IPython.core.display.Javascript object>"
      ]
     },
     "metadata": {},
     "output_type": "display_data"
    }
   ],
   "source": [
    "pd.DataFrame.to_csv(test,'ModelMetrics.csv',index=False)"
   ]
  },
  {
   "cell_type": "code",
   "execution_count": 23,
   "id": "6fd7f986-a4f1-4c4a-a6a9-4fb71a695ef6",
   "metadata": {},
   "outputs": [
    {
     "data": {
      "text/plain": [
       "0    0.954987\n",
       "1    0.970363\n",
       "2    0.970449\n",
       "3    0.945881\n",
       "4    0.939266\n",
       "5    0.986599\n",
       "6    0.984022\n",
       "7    0.990551\n",
       "Name: Accuracy Score, dtype: object"
      ]
     },
     "execution_count": 23,
     "metadata": {},
     "output_type": "execute_result"
    }
   ],
   "source": [
    "test['Accuracy Score']"
   ]
  },
  {
   "cell_type": "code",
   "execution_count": null,
   "id": "5b806d68-32a8-40e9-89f0-c7fc77ff1298",
   "metadata": {},
   "outputs": [],
   "source": []
  }
 ],
 "metadata": {
  "kernelspec": {
   "display_name": "Python 3",
   "language": "python",
   "name": "python3"
  },
  "language_info": {
   "codemirror_mode": {
    "name": "ipython",
    "version": 3
   },
   "file_extension": ".py",
   "mimetype": "text/x-python",
   "name": "python",
   "nbconvert_exporter": "python",
   "pygments_lexer": "ipython3",
   "version": "3.8.2"
  }
 },
 "nbformat": 4,
 "nbformat_minor": 5
}
