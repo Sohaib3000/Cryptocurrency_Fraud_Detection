{
 "cells": [
  {
   "cell_type": "code",
   "execution_count": 1,
   "id": "c00bfd3a-e875-40b6-acac-4c37462931f3",
   "metadata": {},
   "outputs": [],
   "source": [
    "import numpy as np # linear algebra\n",
    "import pandas as pd # data processing, CSV file I/O (e.g. pd.read_csv)\n",
    "\n",
    "import subprocess\n",
    "import shlex\n",
    "import deepwalk\n",
    "import networkx as nx\n",
    "import matplotlib.pyplot as plt\n",
    "from networkx.readwrite.edgelist import read_edgelist\n",
    "from networkx.readwrite.edgelist import write_edgelist\n",
    "\n",
    "from sklearn.preprocessing import normalize\n",
    "from sklearn.semi_supervised import LabelPropagation, LabelSpreading"
   ]
  },
  {
   "cell_type": "code",
   "execution_count": 5,
   "id": "5f0de935-0a0f-440e-a337-bc091d96d7f7",
   "metadata": {},
   "outputs": [],
   "source": [
    "df = pd.read_csv('Data/elliptic_bitcoin_dataset/elliptic_txs_edgelist.csv')"
   ]
  },
  {
   "cell_type": "code",
   "execution_count": 7,
   "id": "726225f1-69ce-42b3-96dd-047954ce2408",
   "metadata": {},
   "outputs": [],
   "source": [
    "df.columns = [0,1]"
   ]
  },
  {
   "cell_type": "code",
   "execution_count": 14,
   "id": "1c15ed0f-4936-4f08-847f-fea47696aaa8",
   "metadata": {},
   "outputs": [],
   "source": [
    "pd.DataFrame.to_csv(df,'bitcoin_edge.edgelist',sep='\\t')"
   ]
  },
  {
   "cell_type": "code",
   "execution_count": 15,
   "id": "e2ac640c-2355-42bf-86f6-08b7fb442e4d",
   "metadata": {},
   "outputs": [
    {
     "name": "stdout",
     "output_type": "stream",
     "text": [
      "Number of nodes: 400590\n",
      "Number of walks: 8011800\n",
      "Data size (walks*length): 240354000\n",
      "Walking...\n",
      "Training...\n",
      "^C\n",
      "Traceback (most recent call last):\n",
      "  File \"/opt/anaconda3/bin/deepwalk\", line 8, in <module>\n",
      "    sys.exit(main())\n",
      "  File \"/opt/anaconda3/lib/python3.8/site-packages/deepwalk/__main__.py\", line 162, in main\n",
      "    process(args)\n",
      "  File \"/opt/anaconda3/lib/python3.8/site-packages/deepwalk/__main__.py\", line 75, in process\n",
      "    model = Word2Vec(walks, size=args.representation_size, window=args.window_size, min_count=0, sg=1, hs=1, workers=args.workers)\n",
      "  File \"/opt/anaconda3/lib/python3.8/site-packages/gensim/models/word2vec.py\", line 597, in __init__\n",
      "    super(Word2Vec, self).__init__(\n",
      "  File \"/opt/anaconda3/lib/python3.8/site-packages/gensim/models/base_any2vec.py\", line 746, in __init__\n",
      "    self.train(\n",
      "  File \"/opt/anaconda3/lib/python3.8/site-packages/gensim/models/word2vec.py\", line 724, in train\n",
      "    return super(Word2Vec, self).train(\n",
      "  File \"/opt/anaconda3/lib/python3.8/site-packages/gensim/models/base_any2vec.py\", line 1063, in train\n",
      "    return super(BaseWordEmbeddingsModel, self).train(\n",
      "  File \"/opt/anaconda3/lib/python3.8/site-packages/gensim/models/base_any2vec.py\", line 550, in train\n",
      "    trained_word_count_epoch, raw_word_count_epoch, job_tally_epoch = self._train_epoch(\n",
      "  File \"/opt/anaconda3/lib/python3.8/site-packages/gensim/models/base_any2vec.py\", line 486, in _train_epoch\n",
      "    trained_word_count, raw_word_count, job_tally = self._log_epoch_progress(\n",
      "  File \"/opt/anaconda3/lib/python3.8/site-packages/gensim/models/base_any2vec.py\", line 345, in _log_epoch_progress\n",
      "    report = progress_queue.get()  # blocks if workers too slow\n",
      "  File \"/opt/anaconda3/lib/python3.8/queue.py\", line 170, in get\n",
      "    self.not_empty.wait()\n",
      "  File \"/opt/anaconda3/lib/python3.8/threading.py\", line 302, in wait\n",
      "    waiter.acquire()\n",
      "KeyboardInterrupt\n"
     ]
    }
   ],
   "source": [
    "!deepwalk --format edgelist --input bitcoin_edge.edgelist --workers 10 --number-walks 20 --representation-size 128 --walk-length 30 --window-size 5 --output graph_bitcoin.embeddings"
   ]
  },
  {
   "cell_type": "code",
   "execution_count": null,
   "id": "00e3ccde-da6f-4fab-b28f-ec461145b77d",
   "metadata": {},
   "outputs": [],
   "source": [
    "!deepwalk --format edgelist --input bitcoin_edge.edgelist --workers 10 --number-walks 20 --representation-size 128 --walk-length 30 --window-size 5 --output graph_bitcoin.embeddings"
   ]
  }
 ],
 "metadata": {
  "kernelspec": {
   "display_name": "Python 3",
   "language": "python",
   "name": "python3"
  },
  "language_info": {
   "codemirror_mode": {
    "name": "ipython",
    "version": 3
   },
   "file_extension": ".py",
   "mimetype": "text/x-python",
   "name": "python",
   "nbconvert_exporter": "python",
   "pygments_lexer": "ipython3",
   "version": "3.8.2"
  }
 },
 "nbformat": 4,
 "nbformat_minor": 5
}
