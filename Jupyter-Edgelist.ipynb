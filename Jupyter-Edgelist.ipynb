{
 "cells": [
  {
   "cell_type": "code",
   "execution_count": 2,
   "id": "3730257c-029e-4a24-81d0-db90bf437ab0",
   "metadata": {},
   "outputs": [],
   "source": [
    "import pyforest"
   ]
  },
  {
   "cell_type": "code",
   "execution_count": 3,
   "id": "0775dc1c-614c-43c2-8b28-3a41ce74be1d",
   "metadata": {},
   "outputs": [],
   "source": [
    "from tqdm import tqdm"
   ]
  },
  {
   "cell_type": "code",
   "execution_count": 4,
   "id": "1d35cb63-6dad-4747-bac4-49332f8a5946",
   "metadata": {},
   "outputs": [
    {
     "data": {
      "application/javascript": [
       "\n",
       "        if (window._pyforest_update_imports_cell) { window._pyforest_update_imports_cell('import pandas as pd'); }\n",
       "    "
      ],
      "text/plain": [
       "<IPython.core.display.Javascript object>"
      ]
     },
     "metadata": {},
     "output_type": "display_data"
    }
   ],
   "source": [
    "edgelist = pd.read_csv('Data/elliptic_bitcoin_dataset/elliptic_txs_edgelist.csv')"
   ]
  },
  {
   "cell_type": "code",
   "execution_count": 5,
   "id": "0fb8f92e-7c18-4236-b9d4-08f49896a84f",
   "metadata": {},
   "outputs": [
    {
     "data": {
      "application/javascript": [
       "\n",
       "        if (window._pyforest_update_imports_cell) { window._pyforest_update_imports_cell('import pandas as pd'); }\n",
       "    "
      ],
      "text/plain": [
       "<IPython.core.display.Javascript object>"
      ]
     },
     "metadata": {},
     "output_type": "display_data"
    }
   ],
   "source": [
    "classes = pd.read_csv('Data/elliptic_bitcoin_dataset/elliptic_txs_classes.csv')"
   ]
  },
  {
   "cell_type": "code",
   "execution_count": 6,
   "id": "15956a4e-5a43-4a49-9d81-8a46aef1edd7",
   "metadata": {},
   "outputs": [
    {
     "data": {
      "text/html": [
       "<div>\n",
       "<style scoped>\n",
       "    .dataframe tbody tr th:only-of-type {\n",
       "        vertical-align: middle;\n",
       "    }\n",
       "\n",
       "    .dataframe tbody tr th {\n",
       "        vertical-align: top;\n",
       "    }\n",
       "\n",
       "    .dataframe thead th {\n",
       "        text-align: right;\n",
       "    }\n",
       "</style>\n",
       "<table border=\"1\" class=\"dataframe\">\n",
       "  <thead>\n",
       "    <tr style=\"text-align: right;\">\n",
       "      <th></th>\n",
       "      <th>txId1</th>\n",
       "      <th>txId2</th>\n",
       "    </tr>\n",
       "  </thead>\n",
       "  <tbody>\n",
       "    <tr>\n",
       "      <th>0</th>\n",
       "      <td>230425980</td>\n",
       "      <td>5530458</td>\n",
       "    </tr>\n",
       "    <tr>\n",
       "      <th>1</th>\n",
       "      <td>232022460</td>\n",
       "      <td>232438397</td>\n",
       "    </tr>\n",
       "    <tr>\n",
       "      <th>2</th>\n",
       "      <td>230460314</td>\n",
       "      <td>230459870</td>\n",
       "    </tr>\n",
       "    <tr>\n",
       "      <th>3</th>\n",
       "      <td>230333930</td>\n",
       "      <td>230595899</td>\n",
       "    </tr>\n",
       "    <tr>\n",
       "      <th>4</th>\n",
       "      <td>232013274</td>\n",
       "      <td>232029206</td>\n",
       "    </tr>\n",
       "    <tr>\n",
       "      <th>...</th>\n",
       "      <td>...</td>\n",
       "      <td>...</td>\n",
       "    </tr>\n",
       "    <tr>\n",
       "      <th>234350</th>\n",
       "      <td>158365409</td>\n",
       "      <td>157930723</td>\n",
       "    </tr>\n",
       "    <tr>\n",
       "      <th>234351</th>\n",
       "      <td>188708874</td>\n",
       "      <td>188708879</td>\n",
       "    </tr>\n",
       "    <tr>\n",
       "      <th>234352</th>\n",
       "      <td>157659064</td>\n",
       "      <td>157659046</td>\n",
       "    </tr>\n",
       "    <tr>\n",
       "      <th>234353</th>\n",
       "      <td>87414554</td>\n",
       "      <td>106877725</td>\n",
       "    </tr>\n",
       "    <tr>\n",
       "      <th>234354</th>\n",
       "      <td>158589452</td>\n",
       "      <td>158589457</td>\n",
       "    </tr>\n",
       "  </tbody>\n",
       "</table>\n",
       "<p>234355 rows × 2 columns</p>\n",
       "</div>"
      ],
      "text/plain": [
       "            txId1      txId2\n",
       "0       230425980    5530458\n",
       "1       232022460  232438397\n",
       "2       230460314  230459870\n",
       "3       230333930  230595899\n",
       "4       232013274  232029206\n",
       "...           ...        ...\n",
       "234350  158365409  157930723\n",
       "234351  188708874  188708879\n",
       "234352  157659064  157659046\n",
       "234353   87414554  106877725\n",
       "234354  158589452  158589457\n",
       "\n",
       "[234355 rows x 2 columns]"
      ]
     },
     "execution_count": 6,
     "metadata": {},
     "output_type": "execute_result"
    }
   ],
   "source": [
    "edgelist"
   ]
  },
  {
   "cell_type": "code",
   "execution_count": 7,
   "id": "0406b6eb-bacb-458e-bca6-9a8d68bde257",
   "metadata": {},
   "outputs": [
    {
     "data": {
      "text/plain": [
       "txId1    166345\n",
       "txId2    148447\n",
       "dtype: int64"
      ]
     },
     "execution_count": 7,
     "metadata": {},
     "output_type": "execute_result"
    }
   ],
   "source": [
    "edgelist.nunique()"
   ]
  },
  {
   "cell_type": "code",
   "execution_count": 10,
   "id": "2a06784a-c6a3-46a9-850b-105cb8c873a0",
   "metadata": {},
   "outputs": [],
   "source": [
    "random = []"
   ]
  },
  {
   "cell_type": "code",
   "execution_count": 11,
   "id": "cb59c6f6-c0f9-4942-874e-f37d18908925",
   "metadata": {},
   "outputs": [],
   "source": [
    "random = edgelist['txId1']"
   ]
  },
  {
   "cell_type": "code",
   "execution_count": 12,
   "id": "454088fe-413d-4982-902d-3f1ec77962ae",
   "metadata": {},
   "outputs": [
    {
     "data": {
      "text/plain": [
       "0         230425980\n",
       "1         232022460\n",
       "2         230460314\n",
       "3         230333930\n",
       "4         232013274\n",
       "            ...    \n",
       "234350    158365409\n",
       "234351    188708874\n",
       "234352    157659064\n",
       "234353     87414554\n",
       "234354    158589452\n",
       "Name: txId1, Length: 234355, dtype: int64"
      ]
     },
     "execution_count": 12,
     "metadata": {},
     "output_type": "execute_result"
    }
   ],
   "source": [
    "random"
   ]
  },
  {
   "cell_type": "code",
   "execution_count": 13,
   "id": "49d17574-267f-4455-8c21-65a07236c42d",
   "metadata": {},
   "outputs": [],
   "source": [
    "random = random.append(edgelist['txId2'])"
   ]
  },
  {
   "cell_type": "code",
   "execution_count": 14,
   "id": "e842cb11-18bd-4e65-bb34-904962fa8044",
   "metadata": {},
   "outputs": [
    {
     "data": {
      "text/plain": [
       "203769"
      ]
     },
     "execution_count": 14,
     "metadata": {},
     "output_type": "execute_result"
    }
   ],
   "source": [
    "len(set(random))"
   ]
  },
  {
   "cell_type": "code",
   "execution_count": 15,
   "id": "5e61d6cb-02c6-4123-bdd9-ca9a1a464361",
   "metadata": {},
   "outputs": [
    {
     "data": {
      "text/html": [
       "<div>\n",
       "<style scoped>\n",
       "    .dataframe tbody tr th:only-of-type {\n",
       "        vertical-align: middle;\n",
       "    }\n",
       "\n",
       "    .dataframe tbody tr th {\n",
       "        vertical-align: top;\n",
       "    }\n",
       "\n",
       "    .dataframe thead th {\n",
       "        text-align: right;\n",
       "    }\n",
       "</style>\n",
       "<table border=\"1\" class=\"dataframe\">\n",
       "  <thead>\n",
       "    <tr style=\"text-align: right;\">\n",
       "      <th></th>\n",
       "      <th>txId</th>\n",
       "      <th>class</th>\n",
       "    </tr>\n",
       "  </thead>\n",
       "  <tbody>\n",
       "    <tr>\n",
       "      <th>0</th>\n",
       "      <td>230425980</td>\n",
       "      <td>unknown</td>\n",
       "    </tr>\n",
       "    <tr>\n",
       "      <th>1</th>\n",
       "      <td>5530458</td>\n",
       "      <td>unknown</td>\n",
       "    </tr>\n",
       "    <tr>\n",
       "      <th>2</th>\n",
       "      <td>232022460</td>\n",
       "      <td>unknown</td>\n",
       "    </tr>\n",
       "    <tr>\n",
       "      <th>3</th>\n",
       "      <td>232438397</td>\n",
       "      <td>2</td>\n",
       "    </tr>\n",
       "    <tr>\n",
       "      <th>4</th>\n",
       "      <td>230460314</td>\n",
       "      <td>unknown</td>\n",
       "    </tr>\n",
       "    <tr>\n",
       "      <th>...</th>\n",
       "      <td>...</td>\n",
       "      <td>...</td>\n",
       "    </tr>\n",
       "    <tr>\n",
       "      <th>203764</th>\n",
       "      <td>173077460</td>\n",
       "      <td>unknown</td>\n",
       "    </tr>\n",
       "    <tr>\n",
       "      <th>203765</th>\n",
       "      <td>158577750</td>\n",
       "      <td>unknown</td>\n",
       "    </tr>\n",
       "    <tr>\n",
       "      <th>203766</th>\n",
       "      <td>158375402</td>\n",
       "      <td>1</td>\n",
       "    </tr>\n",
       "    <tr>\n",
       "      <th>203767</th>\n",
       "      <td>158654197</td>\n",
       "      <td>unknown</td>\n",
       "    </tr>\n",
       "    <tr>\n",
       "      <th>203768</th>\n",
       "      <td>157597225</td>\n",
       "      <td>unknown</td>\n",
       "    </tr>\n",
       "  </tbody>\n",
       "</table>\n",
       "<p>203769 rows × 2 columns</p>\n",
       "</div>"
      ],
      "text/plain": [
       "             txId    class\n",
       "0       230425980  unknown\n",
       "1         5530458  unknown\n",
       "2       232022460  unknown\n",
       "3       232438397        2\n",
       "4       230460314  unknown\n",
       "...           ...      ...\n",
       "203764  173077460  unknown\n",
       "203765  158577750  unknown\n",
       "203766  158375402        1\n",
       "203767  158654197  unknown\n",
       "203768  157597225  unknown\n",
       "\n",
       "[203769 rows x 2 columns]"
      ]
     },
     "execution_count": 15,
     "metadata": {},
     "output_type": "execute_result"
    }
   ],
   "source": [
    "classes"
   ]
  },
  {
   "cell_type": "code",
   "execution_count": 16,
   "id": "88e5d126-d429-4eb9-93ac-4b8f62265d1f",
   "metadata": {},
   "outputs": [
    {
     "data": {
      "application/javascript": [
       "\n",
       "        if (window._pyforest_update_imports_cell) { window._pyforest_update_imports_cell('import pandas as pd'); }\n",
       "    "
      ],
      "text/plain": [
       "<IPython.core.display.Javascript object>"
      ]
     },
     "metadata": {},
     "output_type": "display_data"
    }
   ],
   "source": [
    "test1 = pd.merge(edgelist,classes,how='inner',left_on='txId1',right_on='txId')"
   ]
  },
  {
   "cell_type": "code",
   "execution_count": 17,
   "id": "fc7bcbf4-00ea-41ce-8d5e-680426447bd7",
   "metadata": {},
   "outputs": [
    {
     "data": {
      "text/html": [
       "<div>\n",
       "<style scoped>\n",
       "    .dataframe tbody tr th:only-of-type {\n",
       "        vertical-align: middle;\n",
       "    }\n",
       "\n",
       "    .dataframe tbody tr th {\n",
       "        vertical-align: top;\n",
       "    }\n",
       "\n",
       "    .dataframe thead th {\n",
       "        text-align: right;\n",
       "    }\n",
       "</style>\n",
       "<table border=\"1\" class=\"dataframe\">\n",
       "  <thead>\n",
       "    <tr style=\"text-align: right;\">\n",
       "      <th></th>\n",
       "      <th>txId1</th>\n",
       "      <th>txId2</th>\n",
       "    </tr>\n",
       "  </thead>\n",
       "  <tbody>\n",
       "    <tr>\n",
       "      <th>0</th>\n",
       "      <td>230425980</td>\n",
       "      <td>5530458</td>\n",
       "    </tr>\n",
       "    <tr>\n",
       "      <th>1</th>\n",
       "      <td>232022460</td>\n",
       "      <td>232438397</td>\n",
       "    </tr>\n",
       "    <tr>\n",
       "      <th>2</th>\n",
       "      <td>230460314</td>\n",
       "      <td>230459870</td>\n",
       "    </tr>\n",
       "    <tr>\n",
       "      <th>3</th>\n",
       "      <td>230333930</td>\n",
       "      <td>230595899</td>\n",
       "    </tr>\n",
       "    <tr>\n",
       "      <th>4</th>\n",
       "      <td>232013274</td>\n",
       "      <td>232029206</td>\n",
       "    </tr>\n",
       "    <tr>\n",
       "      <th>...</th>\n",
       "      <td>...</td>\n",
       "      <td>...</td>\n",
       "    </tr>\n",
       "    <tr>\n",
       "      <th>234350</th>\n",
       "      <td>158365409</td>\n",
       "      <td>157930723</td>\n",
       "    </tr>\n",
       "    <tr>\n",
       "      <th>234351</th>\n",
       "      <td>188708874</td>\n",
       "      <td>188708879</td>\n",
       "    </tr>\n",
       "    <tr>\n",
       "      <th>234352</th>\n",
       "      <td>157659064</td>\n",
       "      <td>157659046</td>\n",
       "    </tr>\n",
       "    <tr>\n",
       "      <th>234353</th>\n",
       "      <td>87414554</td>\n",
       "      <td>106877725</td>\n",
       "    </tr>\n",
       "    <tr>\n",
       "      <th>234354</th>\n",
       "      <td>158589452</td>\n",
       "      <td>158589457</td>\n",
       "    </tr>\n",
       "  </tbody>\n",
       "</table>\n",
       "<p>234355 rows × 2 columns</p>\n",
       "</div>"
      ],
      "text/plain": [
       "            txId1      txId2\n",
       "0       230425980    5530458\n",
       "1       232022460  232438397\n",
       "2       230460314  230459870\n",
       "3       230333930  230595899\n",
       "4       232013274  232029206\n",
       "...           ...        ...\n",
       "234350  158365409  157930723\n",
       "234351  188708874  188708879\n",
       "234352  157659064  157659046\n",
       "234353   87414554  106877725\n",
       "234354  158589452  158589457\n",
       "\n",
       "[234355 rows x 2 columns]"
      ]
     },
     "execution_count": 17,
     "metadata": {},
     "output_type": "execute_result"
    }
   ],
   "source": [
    "edgelist"
   ]
  },
  {
   "cell_type": "code",
   "execution_count": 18,
   "id": "1a45a884-4db9-4272-b2cc-73f271fae0cc",
   "metadata": {},
   "outputs": [
    {
     "data": {
      "text/html": [
       "<div>\n",
       "<style scoped>\n",
       "    .dataframe tbody tr th:only-of-type {\n",
       "        vertical-align: middle;\n",
       "    }\n",
       "\n",
       "    .dataframe tbody tr th {\n",
       "        vertical-align: top;\n",
       "    }\n",
       "\n",
       "    .dataframe thead th {\n",
       "        text-align: right;\n",
       "    }\n",
       "</style>\n",
       "<table border=\"1\" class=\"dataframe\">\n",
       "  <thead>\n",
       "    <tr style=\"text-align: right;\">\n",
       "      <th></th>\n",
       "      <th>txId1</th>\n",
       "      <th>txId2</th>\n",
       "      <th>txId</th>\n",
       "      <th>class</th>\n",
       "    </tr>\n",
       "  </thead>\n",
       "  <tbody>\n",
       "    <tr>\n",
       "      <th>0</th>\n",
       "      <td>230425980</td>\n",
       "      <td>5530458</td>\n",
       "      <td>230425980</td>\n",
       "      <td>unknown</td>\n",
       "    </tr>\n",
       "    <tr>\n",
       "      <th>1</th>\n",
       "      <td>232022460</td>\n",
       "      <td>232438397</td>\n",
       "      <td>232022460</td>\n",
       "      <td>unknown</td>\n",
       "    </tr>\n",
       "    <tr>\n",
       "      <th>2</th>\n",
       "      <td>232022460</td>\n",
       "      <td>232022462</td>\n",
       "      <td>232022460</td>\n",
       "      <td>unknown</td>\n",
       "    </tr>\n",
       "    <tr>\n",
       "      <th>3</th>\n",
       "      <td>230460314</td>\n",
       "      <td>230459870</td>\n",
       "      <td>230460314</td>\n",
       "      <td>unknown</td>\n",
       "    </tr>\n",
       "    <tr>\n",
       "      <th>4</th>\n",
       "      <td>230460314</td>\n",
       "      <td>230460307</td>\n",
       "      <td>230460314</td>\n",
       "      <td>unknown</td>\n",
       "    </tr>\n",
       "    <tr>\n",
       "      <th>...</th>\n",
       "      <td>...</td>\n",
       "      <td>...</td>\n",
       "      <td>...</td>\n",
       "      <td>...</td>\n",
       "    </tr>\n",
       "    <tr>\n",
       "      <th>234350</th>\n",
       "      <td>157631640</td>\n",
       "      <td>21644119</td>\n",
       "      <td>157631640</td>\n",
       "      <td>2</td>\n",
       "    </tr>\n",
       "    <tr>\n",
       "      <th>234351</th>\n",
       "      <td>157579987</td>\n",
       "      <td>157579982</td>\n",
       "      <td>157579987</td>\n",
       "      <td>unknown</td>\n",
       "    </tr>\n",
       "    <tr>\n",
       "      <th>234352</th>\n",
       "      <td>158365409</td>\n",
       "      <td>157930723</td>\n",
       "      <td>158365409</td>\n",
       "      <td>1</td>\n",
       "    </tr>\n",
       "    <tr>\n",
       "      <th>234353</th>\n",
       "      <td>188708874</td>\n",
       "      <td>188708879</td>\n",
       "      <td>188708874</td>\n",
       "      <td>unknown</td>\n",
       "    </tr>\n",
       "    <tr>\n",
       "      <th>234354</th>\n",
       "      <td>157659064</td>\n",
       "      <td>157659046</td>\n",
       "      <td>157659064</td>\n",
       "      <td>unknown</td>\n",
       "    </tr>\n",
       "  </tbody>\n",
       "</table>\n",
       "<p>234355 rows × 4 columns</p>\n",
       "</div>"
      ],
      "text/plain": [
       "            txId1      txId2       txId    class\n",
       "0       230425980    5530458  230425980  unknown\n",
       "1       232022460  232438397  232022460  unknown\n",
       "2       232022460  232022462  232022460  unknown\n",
       "3       230460314  230459870  230460314  unknown\n",
       "4       230460314  230460307  230460314  unknown\n",
       "...           ...        ...        ...      ...\n",
       "234350  157631640   21644119  157631640        2\n",
       "234351  157579987  157579982  157579987  unknown\n",
       "234352  158365409  157930723  158365409        1\n",
       "234353  188708874  188708879  188708874  unknown\n",
       "234354  157659064  157659046  157659064  unknown\n",
       "\n",
       "[234355 rows x 4 columns]"
      ]
     },
     "execution_count": 18,
     "metadata": {},
     "output_type": "execute_result"
    }
   ],
   "source": [
    "test1"
   ]
  },
  {
   "cell_type": "code",
   "execution_count": 19,
   "id": "1cef5b3c-8768-49fa-ad40-933cc13513f1",
   "metadata": {},
   "outputs": [
    {
     "data": {
      "text/plain": [
       "txId1    166345\n",
       "txId2    148447\n",
       "txId     166345\n",
       "class         3\n",
       "dtype: int64"
      ]
     },
     "execution_count": 19,
     "metadata": {},
     "output_type": "execute_result"
    }
   ],
   "source": [
    "test1.nunique()"
   ]
  },
  {
   "cell_type": "code",
   "execution_count": 20,
   "id": "fa108a0e-1dac-439f-98c4-32f68a1bb3a1",
   "metadata": {},
   "outputs": [
    {
     "data": {
      "text/plain": [
       "unknown    181157\n",
       "2           49827\n",
       "1            3371\n",
       "Name: class, dtype: int64"
      ]
     },
     "execution_count": 20,
     "metadata": {},
     "output_type": "execute_result"
    }
   ],
   "source": [
    "test1['class'].value_counts()"
   ]
  },
  {
   "cell_type": "code",
   "execution_count": 21,
   "id": "83cec720-1de8-4dec-bf21-11e0816ce5ef",
   "metadata": {},
   "outputs": [],
   "source": [
    "test1 = test1.drop(columns='txId')"
   ]
  },
  {
   "cell_type": "code",
   "execution_count": 22,
   "id": "dff71621-5d3f-41b6-bdd9-3e740e268015",
   "metadata": {},
   "outputs": [
    {
     "data": {
      "text/html": [
       "<div>\n",
       "<style scoped>\n",
       "    .dataframe tbody tr th:only-of-type {\n",
       "        vertical-align: middle;\n",
       "    }\n",
       "\n",
       "    .dataframe tbody tr th {\n",
       "        vertical-align: top;\n",
       "    }\n",
       "\n",
       "    .dataframe thead th {\n",
       "        text-align: right;\n",
       "    }\n",
       "</style>\n",
       "<table border=\"1\" class=\"dataframe\">\n",
       "  <thead>\n",
       "    <tr style=\"text-align: right;\">\n",
       "      <th></th>\n",
       "      <th>txId1</th>\n",
       "      <th>txId2</th>\n",
       "      <th>class</th>\n",
       "    </tr>\n",
       "  </thead>\n",
       "  <tbody>\n",
       "    <tr>\n",
       "      <th>0</th>\n",
       "      <td>230425980</td>\n",
       "      <td>5530458</td>\n",
       "      <td>unknown</td>\n",
       "    </tr>\n",
       "    <tr>\n",
       "      <th>1</th>\n",
       "      <td>232022460</td>\n",
       "      <td>232438397</td>\n",
       "      <td>unknown</td>\n",
       "    </tr>\n",
       "    <tr>\n",
       "      <th>2</th>\n",
       "      <td>232022460</td>\n",
       "      <td>232022462</td>\n",
       "      <td>unknown</td>\n",
       "    </tr>\n",
       "    <tr>\n",
       "      <th>3</th>\n",
       "      <td>230460314</td>\n",
       "      <td>230459870</td>\n",
       "      <td>unknown</td>\n",
       "    </tr>\n",
       "    <tr>\n",
       "      <th>4</th>\n",
       "      <td>230460314</td>\n",
       "      <td>230460307</td>\n",
       "      <td>unknown</td>\n",
       "    </tr>\n",
       "    <tr>\n",
       "      <th>...</th>\n",
       "      <td>...</td>\n",
       "      <td>...</td>\n",
       "      <td>...</td>\n",
       "    </tr>\n",
       "    <tr>\n",
       "      <th>234350</th>\n",
       "      <td>157631640</td>\n",
       "      <td>21644119</td>\n",
       "      <td>2</td>\n",
       "    </tr>\n",
       "    <tr>\n",
       "      <th>234351</th>\n",
       "      <td>157579987</td>\n",
       "      <td>157579982</td>\n",
       "      <td>unknown</td>\n",
       "    </tr>\n",
       "    <tr>\n",
       "      <th>234352</th>\n",
       "      <td>158365409</td>\n",
       "      <td>157930723</td>\n",
       "      <td>1</td>\n",
       "    </tr>\n",
       "    <tr>\n",
       "      <th>234353</th>\n",
       "      <td>188708874</td>\n",
       "      <td>188708879</td>\n",
       "      <td>unknown</td>\n",
       "    </tr>\n",
       "    <tr>\n",
       "      <th>234354</th>\n",
       "      <td>157659064</td>\n",
       "      <td>157659046</td>\n",
       "      <td>unknown</td>\n",
       "    </tr>\n",
       "  </tbody>\n",
       "</table>\n",
       "<p>234355 rows × 3 columns</p>\n",
       "</div>"
      ],
      "text/plain": [
       "            txId1      txId2    class\n",
       "0       230425980    5530458  unknown\n",
       "1       232022460  232438397  unknown\n",
       "2       232022460  232022462  unknown\n",
       "3       230460314  230459870  unknown\n",
       "4       230460314  230460307  unknown\n",
       "...           ...        ...      ...\n",
       "234350  157631640   21644119        2\n",
       "234351  157579987  157579982  unknown\n",
       "234352  158365409  157930723        1\n",
       "234353  188708874  188708879  unknown\n",
       "234354  157659064  157659046  unknown\n",
       "\n",
       "[234355 rows x 3 columns]"
      ]
     },
     "execution_count": 22,
     "metadata": {},
     "output_type": "execute_result"
    }
   ],
   "source": [
    "test1"
   ]
  },
  {
   "cell_type": "code",
   "execution_count": 23,
   "id": "53420879-3470-411f-9a68-41347bf3826a",
   "metadata": {},
   "outputs": [
    {
     "data": {
      "application/javascript": [
       "\n",
       "        if (window._pyforest_update_imports_cell) { window._pyforest_update_imports_cell('import pandas as pd'); }\n",
       "    "
      ],
      "text/plain": [
       "<IPython.core.display.Javascript object>"
      ]
     },
     "metadata": {},
     "output_type": "display_data"
    }
   ],
   "source": [
    "test2 = pd.merge(test1,classes,how='inner',left_on='txId2',right_on='txId')"
   ]
  },
  {
   "cell_type": "code",
   "execution_count": 24,
   "id": "f0ae2659-0f8c-4b89-bf30-a21229e4f29b",
   "metadata": {},
   "outputs": [],
   "source": [
    "test2 = test2.drop(columns='txId')"
   ]
  },
  {
   "cell_type": "code",
   "execution_count": 25,
   "id": "9e1471fc-987a-4d7d-a3f5-acb4d3a77d31",
   "metadata": {},
   "outputs": [
    {
     "data": {
      "text/html": [
       "<div>\n",
       "<style scoped>\n",
       "    .dataframe tbody tr th:only-of-type {\n",
       "        vertical-align: middle;\n",
       "    }\n",
       "\n",
       "    .dataframe tbody tr th {\n",
       "        vertical-align: top;\n",
       "    }\n",
       "\n",
       "    .dataframe thead th {\n",
       "        text-align: right;\n",
       "    }\n",
       "</style>\n",
       "<table border=\"1\" class=\"dataframe\">\n",
       "  <thead>\n",
       "    <tr style=\"text-align: right;\">\n",
       "      <th></th>\n",
       "      <th>txId1</th>\n",
       "      <th>txId2</th>\n",
       "      <th>class_x</th>\n",
       "      <th>class_y</th>\n",
       "    </tr>\n",
       "  </thead>\n",
       "  <tbody>\n",
       "    <tr>\n",
       "      <th>0</th>\n",
       "      <td>230425980</td>\n",
       "      <td>5530458</td>\n",
       "      <td>unknown</td>\n",
       "      <td>unknown</td>\n",
       "    </tr>\n",
       "    <tr>\n",
       "      <th>1</th>\n",
       "      <td>232022460</td>\n",
       "      <td>232438397</td>\n",
       "      <td>unknown</td>\n",
       "      <td>2</td>\n",
       "    </tr>\n",
       "    <tr>\n",
       "      <th>2</th>\n",
       "      <td>230423018</td>\n",
       "      <td>232438397</td>\n",
       "      <td>2</td>\n",
       "      <td>2</td>\n",
       "    </tr>\n",
       "    <tr>\n",
       "      <th>3</th>\n",
       "      <td>230425284</td>\n",
       "      <td>232438397</td>\n",
       "      <td>unknown</td>\n",
       "      <td>2</td>\n",
       "    </tr>\n",
       "    <tr>\n",
       "      <th>4</th>\n",
       "      <td>1913117</td>\n",
       "      <td>232438397</td>\n",
       "      <td>2</td>\n",
       "      <td>2</td>\n",
       "    </tr>\n",
       "    <tr>\n",
       "      <th>...</th>\n",
       "      <td>...</td>\n",
       "      <td>...</td>\n",
       "      <td>...</td>\n",
       "      <td>...</td>\n",
       "    </tr>\n",
       "    <tr>\n",
       "      <th>234350</th>\n",
       "      <td>158594124</td>\n",
       "      <td>157631640</td>\n",
       "      <td>2</td>\n",
       "      <td>2</td>\n",
       "    </tr>\n",
       "    <tr>\n",
       "      <th>234351</th>\n",
       "      <td>180061133</td>\n",
       "      <td>189207658</td>\n",
       "      <td>unknown</td>\n",
       "      <td>unknown</td>\n",
       "    </tr>\n",
       "    <tr>\n",
       "      <th>234352</th>\n",
       "      <td>188724578</td>\n",
       "      <td>167179460</td>\n",
       "      <td>unknown</td>\n",
       "      <td>unknown</td>\n",
       "    </tr>\n",
       "    <tr>\n",
       "      <th>234353</th>\n",
       "      <td>157631640</td>\n",
       "      <td>21644119</td>\n",
       "      <td>2</td>\n",
       "      <td>2</td>\n",
       "    </tr>\n",
       "    <tr>\n",
       "      <th>234354</th>\n",
       "      <td>188708874</td>\n",
       "      <td>188708879</td>\n",
       "      <td>unknown</td>\n",
       "      <td>unknown</td>\n",
       "    </tr>\n",
       "  </tbody>\n",
       "</table>\n",
       "<p>234355 rows × 4 columns</p>\n",
       "</div>"
      ],
      "text/plain": [
       "            txId1      txId2  class_x  class_y\n",
       "0       230425980    5530458  unknown  unknown\n",
       "1       232022460  232438397  unknown        2\n",
       "2       230423018  232438397        2        2\n",
       "3       230425284  232438397  unknown        2\n",
       "4         1913117  232438397        2        2\n",
       "...           ...        ...      ...      ...\n",
       "234350  158594124  157631640        2        2\n",
       "234351  180061133  189207658  unknown  unknown\n",
       "234352  188724578  167179460  unknown  unknown\n",
       "234353  157631640   21644119        2        2\n",
       "234354  188708874  188708879  unknown  unknown\n",
       "\n",
       "[234355 rows x 4 columns]"
      ]
     },
     "execution_count": 25,
     "metadata": {},
     "output_type": "execute_result"
    }
   ],
   "source": [
    "test2"
   ]
  },
  {
   "cell_type": "code",
   "execution_count": 42,
   "id": "2e0a0a08-32c3-4646-b700-00072c51042c",
   "metadata": {},
   "outputs": [
    {
     "data": {
      "application/javascript": [
       "\n",
       "        if (window._pyforest_update_imports_cell) { window._pyforest_update_imports_cell('import matplotlib.pyplot as plt\\nimport pandas as pd'); }\n",
       "    "
      ],
      "text/plain": [
       "<IPython.core.display.Javascript object>"
      ]
     },
     "metadata": {},
     "output_type": "display_data"
    },
    {
     "data": {
      "text/plain": [
       "<matplotlib.collections.PathCollection at 0x7fbaa3fa5940>"
      ]
     },
     "execution_count": 42,
     "metadata": {},
     "output_type": "execute_result"
    },
    {
     "data": {
      "image/png": "[encoded data removed]",
      "text/plain": [
       "<Figure size 432x288 with 1 Axes>"
      ]
     },
     "metadata": {
      "needs_background": "light"
     },
     "output_type": "display_data"
    }
   ],
   "source": [
    "plt.scatter(test2.index,test2['txId1'],)"
   ]
  },
  {
   "cell_type": "code",
   "execution_count": null,
   "id": "0b030be1-ebe3-43cc-8ad9-041d516cc054",
   "metadata": {},
   "outputs": [],
   "source": []
  },
  {
   "cell_type": "code",
   "execution_count": 26,
   "id": "4ac74f99-5905-4a12-9b31-87ab1d12e84a",
   "metadata": {},
   "outputs": [
    {
     "data": {
      "text/html": [
       "<div>\n",
       "<style scoped>\n",
       "    .dataframe tbody tr th:only-of-type {\n",
       "        vertical-align: middle;\n",
       "    }\n",
       "\n",
       "    .dataframe tbody tr th {\n",
       "        vertical-align: top;\n",
       "    }\n",
       "\n",
       "    .dataframe thead th {\n",
       "        text-align: right;\n",
       "    }\n",
       "</style>\n",
       "<table border=\"1\" class=\"dataframe\">\n",
       "  <thead>\n",
       "    <tr style=\"text-align: right;\">\n",
       "      <th></th>\n",
       "      <th>txId</th>\n",
       "      <th>class</th>\n",
       "    </tr>\n",
       "  </thead>\n",
       "  <tbody>\n",
       "    <tr>\n",
       "      <th>3</th>\n",
       "      <td>232438397</td>\n",
       "      <td>2</td>\n",
       "    </tr>\n",
       "  </tbody>\n",
       "</table>\n",
       "</div>"
      ],
      "text/plain": [
       "        txId class\n",
       "3  232438397     2"
      ]
     },
     "execution_count": 26,
     "metadata": {},
     "output_type": "execute_result"
    }
   ],
   "source": [
    "classes.loc[classes['txId']==232438397]"
   ]
  },
  {
   "cell_type": "code",
   "execution_count": 27,
   "id": "41d2b9a0-2e7e-4980-8b97-d932dd3947a1",
   "metadata": {},
   "outputs": [
    {
     "data": {
      "text/html": [
       "<div>\n",
       "<style scoped>\n",
       "    .dataframe tbody tr th:only-of-type {\n",
       "        vertical-align: middle;\n",
       "    }\n",
       "\n",
       "    .dataframe tbody tr th {\n",
       "        vertical-align: top;\n",
       "    }\n",
       "\n",
       "    .dataframe thead th {\n",
       "        text-align: right;\n",
       "    }\n",
       "</style>\n",
       "<table border=\"1\" class=\"dataframe\">\n",
       "  <thead>\n",
       "    <tr style=\"text-align: right;\">\n",
       "      <th></th>\n",
       "      <th>txId1</th>\n",
       "      <th>txId2</th>\n",
       "      <th>class_x</th>\n",
       "      <th>class_y</th>\n",
       "    </tr>\n",
       "  </thead>\n",
       "  <tbody>\n",
       "    <tr>\n",
       "      <th>38</th>\n",
       "      <td>16754007</td>\n",
       "      <td>232438397</td>\n",
       "      <td>1</td>\n",
       "      <td>2</td>\n",
       "    </tr>\n",
       "    <tr>\n",
       "      <th>1285</th>\n",
       "      <td>24155910</td>\n",
       "      <td>230683551</td>\n",
       "      <td>1</td>\n",
       "      <td>2</td>\n",
       "    </tr>\n",
       "    <tr>\n",
       "      <th>1402</th>\n",
       "      <td>3205536</td>\n",
       "      <td>230451730</td>\n",
       "      <td>1</td>\n",
       "      <td>2</td>\n",
       "    </tr>\n",
       "    <tr>\n",
       "      <th>1638</th>\n",
       "      <td>230389796</td>\n",
       "      <td>2717498</td>\n",
       "      <td>1</td>\n",
       "      <td>2</td>\n",
       "    </tr>\n",
       "    <tr>\n",
       "      <th>1641</th>\n",
       "      <td>17387772</td>\n",
       "      <td>2717498</td>\n",
       "      <td>1</td>\n",
       "      <td>2</td>\n",
       "    </tr>\n",
       "    <tr>\n",
       "      <th>...</th>\n",
       "      <td>...</td>\n",
       "      <td>...</td>\n",
       "      <td>...</td>\n",
       "      <td>...</td>\n",
       "    </tr>\n",
       "    <tr>\n",
       "      <th>232245</th>\n",
       "      <td>159033526</td>\n",
       "      <td>157929208</td>\n",
       "      <td>1</td>\n",
       "      <td>2</td>\n",
       "    </tr>\n",
       "    <tr>\n",
       "      <th>232253</th>\n",
       "      <td>158360758</td>\n",
       "      <td>157929208</td>\n",
       "      <td>1</td>\n",
       "      <td>2</td>\n",
       "    </tr>\n",
       "    <tr>\n",
       "      <th>232256</th>\n",
       "      <td>159028476</td>\n",
       "      <td>157929208</td>\n",
       "      <td>1</td>\n",
       "      <td>2</td>\n",
       "    </tr>\n",
       "    <tr>\n",
       "      <th>233606</th>\n",
       "      <td>158378208</td>\n",
       "      <td>159039422</td>\n",
       "      <td>1</td>\n",
       "      <td>1</td>\n",
       "    </tr>\n",
       "    <tr>\n",
       "      <th>234046</th>\n",
       "      <td>158360779</td>\n",
       "      <td>159031247</td>\n",
       "      <td>1</td>\n",
       "      <td>unknown</td>\n",
       "    </tr>\n",
       "  </tbody>\n",
       "</table>\n",
       "<p>3371 rows × 4 columns</p>\n",
       "</div>"
      ],
      "text/plain": [
       "            txId1      txId2 class_x  class_y\n",
       "38       16754007  232438397       1        2\n",
       "1285     24155910  230683551       1        2\n",
       "1402      3205536  230451730       1        2\n",
       "1638    230389796    2717498       1        2\n",
       "1641     17387772    2717498       1        2\n",
       "...           ...        ...     ...      ...\n",
       "232245  159033526  157929208       1        2\n",
       "232253  158360758  157929208       1        2\n",
       "232256  159028476  157929208       1        2\n",
       "233606  158378208  159039422       1        1\n",
       "234046  158360779  159031247       1  unknown\n",
       "\n",
       "[3371 rows x 4 columns]"
      ]
     },
     "execution_count": 27,
     "metadata": {},
     "output_type": "execute_result"
    }
   ],
   "source": [
    "test2.loc[test2['class_x']=='1']\n"
   ]
  },
  {
   "cell_type": "code",
   "execution_count": 28,
   "id": "5a498385-d9ed-40e1-a265-c6725d2e38a9",
   "metadata": {},
   "outputs": [],
   "source": [
    "ilicit_transactions = test2.loc[test2['class_x']=='1']\n"
   ]
  },
  {
   "cell_type": "code",
   "execution_count": 30,
   "id": "813d6ecf-91d4-4fac-88ea-2c85d2ddd84c",
   "metadata": {},
   "outputs": [],
   "source": [
    "import networkx as nx"
   ]
  },
  {
   "cell_type": "code",
   "execution_count": 43,
   "id": "0515ac15-0c18-4c5e-ad00-005312135975",
   "metadata": {},
   "outputs": [],
   "source": [
    "test = ilicit_transactions.sample(20)"
   ]
  },
  {
   "cell_type": "code",
   "execution_count": 33,
   "id": "6db87a5d-b337-4c5d-9dfd-ed82b991c017",
   "metadata": {},
   "outputs": [
    {
     "data": {
      "application/javascript": [
       "\n",
       "        if (window._pyforest_update_imports_cell) { window._pyforest_update_imports_cell('import matplotlib.pyplot as plt\\nimport pandas as pd'); }\n",
       "    "
      ],
      "text/plain": [
       "<IPython.core.display.Javascript object>"
      ]
     },
     "metadata": {},
     "output_type": "display_data"
    },
    {
     "data": {
      "image/png": "[encoded data removed]",
      "text/plain": [
       "<Figure size 432x288 with 1 Axes>"
      ]
     },
     "metadata": {},
     "output_type": "display_data"
    }
   ],
   "source": [
    "graph = nx.from_pandas_edgelist(test, source = 'txId1', target = 'txId2', \n",
    "                                 create_using = nx.DiGraph())\n",
    "pos = nx.spring_layout(graph)\n",
    "nx.draw(graph, cmap = plt.get_cmap('rainbow'), with_labels=True, pos=pos)"
   ]
  },
  {
   "cell_type": "code",
   "execution_count": 38,
   "id": "116f6b27-ad51-44f1-b1e2-c0710881c502",
   "metadata": {},
   "outputs": [
    {
     "data": {
      "application/javascript": [
       "\n",
       "        if (window._pyforest_update_imports_cell) { window._pyforest_update_imports_cell('import matplotlib.pyplot as plt\\nimport pandas as pd'); }\n",
       "    "
      ],
      "text/plain": [
       "<IPython.core.display.Javascript object>"
      ]
     },
     "metadata": {},
     "output_type": "display_data"
    },
    {
     "data": {
      "image/png": "[encoded data removed]",
      "text/plain": [
       "<Figure size 432x288 with 1 Axes>"
      ]
     },
     "metadata": {},
     "output_type": "display_data"
    }
   ],
   "source": [
    "graph1 = nx.from_pandas_edgelist(test, source = 'txId1', target = 'txId2', \n",
    "                                 create_using = nx.Graph())\n",
    "pos1 = nx.spring_layout(graph1)\n",
    "nx.draw(graph1, cmap = plt.get_cmap('rainbow'), with_labels=False, pos=pos1)"
   ]
  },
  {
   "cell_type": "code",
   "execution_count": 44,
   "id": "4a2ab73b-201e-466b-a53d-3581120a747d",
   "metadata": {},
   "outputs": [
    {
     "data": {
      "image/png": "[encoded data removed]",
      "text/plain": [
       "<Figure size 432x288 with 1 Axes>"
      ]
     },
     "metadata": {},
     "output_type": "display_data"
    }
   ],
   "source": [
    "graph = nx.from_pandas_edgelist(test, source = 'txId1', target = 'txId2', \n",
    "                                 create_using = nx.DiGraph())\n",
    "pos = nx.spring_layout(graph)\n",
    "nx.draw(graph, with_labels=False, pos=pos)"
   ]
  },
  {
   "cell_type": "code",
   "execution_count": 46,
   "id": "5a4a2e8c-c9cd-4e66-9d34-d01d47620c8a",
   "metadata": {},
   "outputs": [
    {
     "name": "stdout",
     "output_type": "stream",
     "text": [
      "272078777\n",
      "272529604\n",
      "339643017\n",
      "226821074\n",
      "72034735\n",
      "73154970\n",
      "166073496\n",
      "163654828\n",
      "272077842\n",
      "183381254\n",
      "139274013\n",
      "139273997\n",
      "163654969\n",
      "163654968\n",
      "246044514\n",
      "139532229\n",
      "71993480\n",
      "73160850\n",
      "174938459\n",
      "186359097\n",
      "246066237\n",
      "139276570\n",
      "72294238\n",
      "72629836\n",
      "355102455\n",
      "355174807\n",
      "378415649\n",
      "378593993\n",
      "69593976\n",
      "70360850\n",
      "139274505\n",
      "84749894\n",
      "124012816\n",
      "133212313\n",
      "209485480\n",
      "310524772\n",
      "310524764\n",
      "243780856\n",
      "244630834\n"
     ]
    }
   ],
   "source": []
  },
  {
   "cell_type": "code",
   "execution_count": 45,
   "id": "a9b26621-cf8a-413b-8035-9e40a9c5dd3f",
   "metadata": {},
   "outputs": [
    {
     "data": {
      "text/plain": [
       "NodeView((272078777, 272529604, 339643017, 226821074, 72034735, 73154970, 166073496, 163654828, 272077842, 183381254, 139274013, 139273997, 163654969, 163654968, 246044514, 139532229, 71993480, 73160850, 174938459, 186359097, 246066237, 139276570, 72294238, 72629836, 355102455, 355174807, 378415649, 378593993, 69593976, 70360850, 139274505, 84749894, 124012816, 133212313, 209485480, 310524772, 310524764, 243780856, 244630834))"
      ]
     },
     "execution_count": 45,
     "metadata": {},
     "output_type": "execute_result"
    }
   ],
   "source": [
    "graph.nodes"
   ]
  },
  {
   "cell_type": "code",
   "execution_count": null,
   "id": "b91d817f-e127-4331-91d1-855ac8d23559",
   "metadata": {},
   "outputs": [],
   "source": []
  },
  {
   "cell_type": "code",
   "execution_count": 40,
   "id": "ceba8871-be7b-4bb6-ab10-48975aee4caa",
   "metadata": {},
   "outputs": [],
   "source": [
    "import pygraphviz as pgv"
   ]
  },
  {
   "cell_type": "code",
   "execution_count": 41,
   "id": "c07592f8-b671-4182-8230-e3d1daae89b7",
   "metadata": {},
   "outputs": [],
   "source": [
    "G = pgv.AGraph()"
   ]
  },
  {
   "cell_type": "code",
   "execution_count": null,
   "id": "f975919b-0de4-4ec6-bc43-6edcf3886da9",
   "metadata": {},
   "outputs": [],
   "source": [
    "G.add_edges_from"
   ]
  }
 ],
 "metadata": {
  "kernelspec": {
   "display_name": "Python 3",
   "language": "python",
   "name": "python3"
  },
  "language_info": {
   "codemirror_mode": {
    "name": "ipython",
    "version": 3
   },
   "file_extension": ".py",
   "mimetype": "text/x-python",
   "name": "python",
   "nbconvert_exporter": "python",
   "pygments_lexer": "ipython3",
   "version": "3.8.2"
  }
 },
 "nbformat": 4,
 "nbformat_minor": 5
}
