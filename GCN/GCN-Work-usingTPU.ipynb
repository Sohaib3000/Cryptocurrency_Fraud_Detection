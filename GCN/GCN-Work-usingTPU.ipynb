{
 "cells": [
  {
   "cell_type": "code",
   "execution_count": 4,
   "metadata": {
    "execution": {
     "iopub.execute_input": "2021-08-21T01:01:50.415148Z",
     "iopub.status.busy": "2021-08-21T01:01:50.414837Z",
     "iopub.status.idle": "2021-08-21T01:02:00.030076Z",
     "shell.execute_reply": "2021-08-21T01:02:00.028999Z",
     "shell.execute_reply.started": "2021-08-21T01:01:50.415116Z"
    },
    "id": "57DpXDnG1s3Y"
   },
   "outputs": [],
   "source": [
    "import numpy as np\n",
    "import pandas as pd\n",
    "import torch\n",
    "from torch.nn import Linear, LayerNorm, ReLU, Dropout\n",
    "import torch.nn.functional as F\n",
    "from torch_geometric.nn import ChebConv, NNConv, DeepGCNLayer, GATConv, DenseGCNConv, GCNConv, GraphConv\n",
    "from torch_geometric.data import Data, DataLoader\n",
    "\n",
    "from sklearn.metrics import roc_auc_score\n",
    "import scipy.sparse as sp\n",
    "\n",
    "import warnings\n",
    "warnings.filterwarnings(\"ignore\")"
   ]
  },
  {
   "cell_type": "code",
   "execution_count": 5,
   "metadata": {
    "execution": {
     "iopub.execute_input": "2021-08-21T01:02:00.032706Z",
     "iopub.status.busy": "2021-08-21T01:02:00.032257Z",
     "iopub.status.idle": "2021-08-21T01:02:17.379593Z",
     "shell.execute_reply": "2021-08-21T01:02:17.378697Z",
     "shell.execute_reply.started": "2021-08-21T01:02:00.032659Z"
    },
    "id": "Z_FW_uxL2Dag"
   },
   "outputs": [],
   "source": [
    "import pandas as pd\n",
    "df_features = pd.read_csv('Data/elliptic_bitcoin_dataset/elliptic_txs_features.csv', header=None)\n",
    "df_edges = pd.read_csv(\"Data/elliptic_bitcoin_dataset/elliptic_txs_edgelist.csv\")\n",
    "df_classes =  pd.read_csv(\"Data/elliptic_bitcoin_dataset/elliptic_txs_classes.csv\")\n",
    "df_classes['class'] = df_classes['class'].map({'unknown': 2, '1':1, '2':0})"
   ]
  },
  {
   "cell_type": "code",
   "execution_count": 6,
   "metadata": {
    "execution": {
     "iopub.execute_input": "2021-08-21T01:02:17.381703Z",
     "iopub.status.busy": "2021-08-21T01:02:17.381171Z",
     "iopub.status.idle": "2021-08-21T01:02:18.229905Z",
     "shell.execute_reply": "2021-08-21T01:02:18.228996Z",
     "shell.execute_reply.started": "2021-08-21T01:02:17.381670Z"
    },
    "id": "iBYoyWM32JFQ"
   },
   "outputs": [],
   "source": [
    "# merging dataframes\n",
    "df_merge = df_features.merge(df_classes, how='left', right_on=\"txId\", left_on=0)\n",
    "df_merge = df_merge.sort_values(0).reset_index(drop=True)\n",
    "\n",
    "# creating classified and unclassified dataframes\n",
    "\n",
    "classified = df_merge.loc[df_merge['class'].loc[df_merge['class']!=2].index].drop('txId', axis=1)\n",
    "unclassified = df_merge.loc[df_merge['class'].loc[df_merge['class']==2].index].drop('txId', axis=1)\n",
    "\n",
    "# storing classified unclassified nodes seperatly for training and testing purpose\n",
    "classified_edges = df_edges.loc[df_edges['txId1'].isin(classified[0]) & df_edges['txId2'].isin(classified[0])]\n",
    "unclassifed_edges = df_edges.loc[df_edges['txId1'].isin(unclassified[0]) | df_edges['txId2'].isin(unclassified[0])]\n",
    "del df_features, df_classes"
   ]
  },
  {
   "cell_type": "code",
   "execution_count": 7,
   "metadata": {
    "execution": {
     "iopub.execute_input": "2021-08-21T01:02:18.231771Z",
     "iopub.status.busy": "2021-08-21T01:02:18.231244Z",
     "iopub.status.idle": "2021-08-21T01:02:18.828372Z",
     "shell.execute_reply": "2021-08-21T01:02:18.827437Z",
     "shell.execute_reply.started": "2021-08-21T01:02:18.231738Z"
    },
    "id": "LMM7lBiU2I6F",
    "outputId": "b50b50b2-4410-4a14-f9f8-35ed45679691"
   },
   "outputs": [],
   "source": [
    "# all nodes in data\n",
    "nodes = df_merge[0].values\n",
    "map_id = {j:i for i,j in enumerate(nodes)} # mapping nodes to indexes"
   ]
  },
  {
   "cell_type": "code",
   "execution_count": 19,
   "metadata": {
    "execution": {
     "iopub.execute_input": "2021-08-21T01:08:25.515604Z",
     "iopub.status.busy": "2021-08-21T01:08:25.515082Z",
     "iopub.status.idle": "2021-08-21T01:08:25.519488Z",
     "shell.execute_reply": "2021-08-21T01:08:25.518485Z",
     "shell.execute_reply.started": "2021-08-21T01:08:25.515547Z"
    }
   },
   "outputs": [],
   "source": [
    "#map_id"
   ]
  },
  {
   "cell_type": "code",
   "execution_count": 7,
   "metadata": {
    "execution": {
     "iopub.execute_input": "2021-08-21T01:02:18.231771Z",
     "iopub.status.busy": "2021-08-21T01:02:18.231244Z",
     "iopub.status.idle": "2021-08-21T01:02:18.828372Z",
     "shell.execute_reply": "2021-08-21T01:02:18.827437Z",
     "shell.execute_reply.started": "2021-08-21T01:02:18.231738Z"
    },
    "id": "LMM7lBiU2I6F",
    "outputId": "b50b50b2-4410-4a14-f9f8-35ed45679691"
   },
   "outputs": [],
   "source": [
    "edges = df_edges.copy()\n",
    "edges.txId1 = edges.txId1.map(map_id)\n",
    "edges.txId2 = edges.txId2.map(map_id)\n",
    "edges = edges.astype(int)"
   ]
  },
  {
   "cell_type": "code",
   "execution_count": 22,
   "metadata": {
    "execution": {
     "iopub.execute_input": "2021-08-21T01:10:45.615552Z",
     "iopub.status.busy": "2021-08-21T01:10:45.615029Z",
     "iopub.status.idle": "2021-08-21T01:10:45.625795Z",
     "shell.execute_reply": "2021-08-21T01:10:45.625091Z",
     "shell.execute_reply.started": "2021-08-21T01:10:45.615511Z"
    },
    "id": "LMM7lBiU2I6F",
    "outputId": "b50b50b2-4410-4a14-f9f8-35ed45679691"
   },
   "outputs": [
    {
     "data": {
      "text/html": [
       "<div>\n",
       "<style scoped>\n",
       "    .dataframe tbody tr th:only-of-type {\n",
       "        vertical-align: middle;\n",
       "    }\n",
       "\n",
       "    .dataframe tbody tr th {\n",
       "        vertical-align: top;\n",
       "    }\n",
       "\n",
       "    .dataframe thead th {\n",
       "        text-align: right;\n",
       "    }\n",
       "</style>\n",
       "<table border=\"1\" class=\"dataframe\">\n",
       "  <thead>\n",
       "    <tr style=\"text-align: right;\">\n",
       "      <th></th>\n",
       "      <th>txId1</th>\n",
       "      <th>txId2</th>\n",
       "    </tr>\n",
       "  </thead>\n",
       "  <tbody>\n",
       "    <tr>\n",
       "      <th>0</th>\n",
       "      <td>138670</td>\n",
       "      <td>4142</td>\n",
       "    </tr>\n",
       "    <tr>\n",
       "      <th>1</th>\n",
       "      <td>141325</td>\n",
       "      <td>142201</td>\n",
       "    </tr>\n",
       "    <tr>\n",
       "      <th>2</th>\n",
       "      <td>139232</td>\n",
       "      <td>139223</td>\n",
       "    </tr>\n",
       "    <tr>\n",
       "      <th>3</th>\n",
       "      <td>138150</td>\n",
       "      <td>140289</td>\n",
       "    </tr>\n",
       "    <tr>\n",
       "      <th>4</th>\n",
       "      <td>141268</td>\n",
       "      <td>141368</td>\n",
       "    </tr>\n",
       "    <tr>\n",
       "      <th>...</th>\n",
       "      <td>...</td>\n",
       "      <td>...</td>\n",
       "    </tr>\n",
       "    <tr>\n",
       "      <th>234350</th>\n",
       "      <td>100863</td>\n",
       "      <td>100525</td>\n",
       "    </tr>\n",
       "    <tr>\n",
       "      <th>234351</th>\n",
       "      <td>112040</td>\n",
       "      <td>112041</td>\n",
       "    </tr>\n",
       "    <tr>\n",
       "      <th>234352</th>\n",
       "      <td>100420</td>\n",
       "      <td>100419</td>\n",
       "    </tr>\n",
       "    <tr>\n",
       "      <th>234353</th>\n",
       "      <td>54833</td>\n",
       "      <td>81951</td>\n",
       "    </tr>\n",
       "    <tr>\n",
       "      <th>234354</th>\n",
       "      <td>101159</td>\n",
       "      <td>101163</td>\n",
       "    </tr>\n",
       "  </tbody>\n",
       "</table>\n",
       "<p>234355 rows × 2 columns</p>\n",
       "</div>"
      ],
      "text/plain": [
       "         txId1   txId2\n",
       "0       138670    4142\n",
       "1       141325  142201\n",
       "2       139232  139223\n",
       "3       138150  140289\n",
       "4       141268  141368\n",
       "...        ...     ...\n",
       "234350  100863  100525\n",
       "234351  112040  112041\n",
       "234352  100420  100419\n",
       "234353   54833   81951\n",
       "234354  101159  101163\n",
       "\n",
       "[234355 rows x 2 columns]"
      ]
     },
     "execution_count": 22,
     "metadata": {},
     "output_type": "execute_result"
    }
   ],
   "source": [
    "edges"
   ]
  },
  {
   "cell_type": "code",
   "execution_count": 7,
   "metadata": {
    "execution": {
     "iopub.execute_input": "2021-08-21T01:02:18.231771Z",
     "iopub.status.busy": "2021-08-21T01:02:18.231244Z",
     "iopub.status.idle": "2021-08-21T01:02:18.828372Z",
     "shell.execute_reply": "2021-08-21T01:02:18.827437Z",
     "shell.execute_reply.started": "2021-08-21T01:02:18.231738Z"
    },
    "id": "LMM7lBiU2I6F",
    "outputId": "b50b50b2-4410-4a14-f9f8-35ed45679691"
   },
   "outputs": [],
   "source": [
    "edge_index = np.array(edges.values).T"
   ]
  },
  {
   "cell_type": "code",
   "execution_count": 23,
   "metadata": {
    "execution": {
     "iopub.execute_input": "2021-08-21T01:11:47.292142Z",
     "iopub.status.busy": "2021-08-21T01:11:47.291589Z",
     "iopub.status.idle": "2021-08-21T01:11:47.299988Z",
     "shell.execute_reply": "2021-08-21T01:11:47.299224Z",
     "shell.execute_reply.started": "2021-08-21T01:11:47.292108Z"
    }
   },
   "outputs": [
    {
     "data": {
      "text/plain": [
       "tensor([[138670, 141325, 139232,  ..., 100420,  54833, 101159],\n",
       "        [  4142, 142201, 139223,  ..., 100419,  81951, 101163]])"
      ]
     },
     "execution_count": 23,
     "metadata": {},
     "output_type": "execute_result"
    }
   ],
   "source": [
    "edge_index"
   ]
  },
  {
   "cell_type": "code",
   "execution_count": 24,
   "metadata": {
    "execution": {
     "iopub.execute_input": "2021-08-21T01:11:47.459315Z",
     "iopub.status.busy": "2021-08-21T01:11:47.458791Z",
     "iopub.status.idle": "2021-08-21T01:11:47.483178Z",
     "shell.execute_reply": "2021-08-21T01:11:47.482368Z",
     "shell.execute_reply.started": "2021-08-21T01:11:47.459282Z"
    },
    "id": "LMM7lBiU2I6F",
    "outputId": "b50b50b2-4410-4a14-f9f8-35ed45679691"
   },
   "outputs": [
    {
     "name": "stdout",
     "output_type": "stream",
     "text": [
      "torch.Size([2, 234355])\n"
     ]
    }
   ],
   "source": [
    "edge_index = torch.tensor(edge_index, dtype=torch.long).contiguous()\n",
    "# initializing random weights\n",
    "weights = torch.tensor([1]* edge_index.shape[1] , dtype=torch.double)\n",
    "print(edge_index.shape)"
   ]
  },
  {
   "cell_type": "code",
   "execution_count": 8,
   "metadata": {
    "execution": {
     "iopub.execute_input": "2021-08-21T01:02:18.829888Z",
     "iopub.status.busy": "2021-08-21T01:02:18.829585Z",
     "iopub.status.idle": "2021-08-21T01:02:19.277634Z",
     "shell.execute_reply": "2021-08-21T01:02:19.276431Z",
     "shell.execute_reply.started": "2021-08-21T01:02:18.829860Z"
    },
    "id": "4M4CJKwpvNtP"
   },
   "outputs": [],
   "source": [
    "# maping txIds to corresponding indexes, to pass node features to the model\n",
    "node_features = df_merge.drop(['txId'], axis=1).copy()\n",
    "node_features[0] = node_features[0].map(map_id)\n",
    "classified_idx = node_features['class'].loc[node_features['class']!=2].index\n",
    "unclassified_idx = node_features['class'].loc[node_features['class']==2].index\n",
    "# replace unkown class with 0, to avoid having 3 classes, this data/labels never used in training\n",
    "node_features['class'] = node_features['class'].replace(2, 0) "
   ]
  },
  {
   "cell_type": "code",
   "execution_count": 9,
   "metadata": {
    "execution": {
     "iopub.execute_input": "2021-08-21T01:02:19.279451Z",
     "iopub.status.busy": "2021-08-21T01:02:19.279017Z",
     "iopub.status.idle": "2021-08-21T01:02:19.589971Z",
     "shell.execute_reply": "2021-08-21T01:02:19.588988Z",
     "shell.execute_reply.started": "2021-08-21T01:02:19.279409Z"
    },
    "id": "hGx0LmwS2Ilv"
   },
   "outputs": [],
   "source": [
    "labels = node_features['class'].values\n",
    "node_features = torch.tensor(np.array(node_features.drop([0, 'class', 1], axis=1).values, dtype=np.double), dtype=torch.double)\n",
    "\n",
    "# converting data to PyGeometric graph data format\n",
    "data_train = Data(x=node_features, edge_index=edge_index, edge_attr=weights,\n",
    "                               y=torch.tensor(labels, dtype=torch.double)) "
   ]
  },
  {
   "cell_type": "code",
   "execution_count": 10,
   "metadata": {
    "execution": {
     "iopub.execute_input": "2021-08-21T01:02:19.592480Z",
     "iopub.status.busy": "2021-08-21T01:02:19.592196Z",
     "iopub.status.idle": "2021-08-21T01:02:19.786550Z",
     "shell.execute_reply": "2021-08-21T01:02:19.785557Z",
     "shell.execute_reply.started": "2021-08-21T01:02:19.592451Z"
    },
    "id": "Wv747ZYxhabw"
   },
   "outputs": [],
   "source": [
    "y_train = labels[classified_idx]\n",
    "\n",
    "from sklearn.model_selection import train_test_split\n",
    "X_train, X_valid, y_train, y_valid, train_idx, valid_idx = train_test_split(node_features[classified_idx], y_train, classified_idx, test_size=0.15, random_state=42, stratify=y_train)"
   ]
  },
  {
   "cell_type": "code",
   "execution_count": 11,
   "metadata": {
    "execution": {
     "iopub.execute_input": "2021-08-21T01:02:19.788924Z",
     "iopub.status.busy": "2021-08-21T01:02:19.788515Z",
     "iopub.status.idle": "2021-08-21T01:02:19.929363Z",
     "shell.execute_reply": "2021-08-21T01:02:19.928342Z",
     "shell.execute_reply.started": "2021-08-21T01:02:19.788883Z"
    },
    "id": "ocbBkKk3hcOI",
    "outputId": "f0b90aae-3ad9-4c2d-d9c5-c8212084f8ff"
   },
   "outputs": [
    {
     "data": {
      "text/plain": [
       "tensor(4545., dtype=torch.float64)"
      ]
     },
     "execution_count": 11,
     "metadata": {},
     "output_type": "execute_result"
    }
   ],
   "source": [
    "data_train.y[classified_idx].sum()"
   ]
  },
  {
   "cell_type": "code",
   "execution_count": 13,
   "metadata": {
    "execution": {
     "iopub.execute_input": "2021-08-21T01:02:19.937518Z",
     "iopub.status.busy": "2021-08-21T01:02:19.937100Z",
     "iopub.status.idle": "2021-08-21T01:02:20.164968Z",
     "shell.execute_reply": "2021-08-21T01:02:20.164167Z",
     "shell.execute_reply.started": "2021-08-21T01:02:19.937474Z"
    },
    "id": "ey_zVTCC2Ttn",
    "outputId": "feac5ff9-ebe0-469d-fc22-2b5484fc8034"
   },
   "outputs": [
    {
     "data": {
      "text/plain": [
       "132"
      ]
     },
     "execution_count": 13,
     "metadata": {},
     "output_type": "execute_result"
    }
   ],
   "source": [
    "import gc\n",
    "gc.collect()"
   ]
  },
  {
   "cell_type": "code",
   "execution_count": 14,
   "metadata": {
    "execution": {
     "iopub.execute_input": "2021-08-21T01:02:20.166466Z",
     "iopub.status.busy": "2021-08-21T01:02:20.166062Z",
     "iopub.status.idle": "2021-08-21T01:02:20.200329Z",
     "shell.execute_reply": "2021-08-21T01:02:20.199306Z",
     "shell.execute_reply.started": "2021-08-21T01:02:20.166434Z"
    },
    "id": "Rjr_1PQf2TmI"
   },
   "outputs": [],
   "source": [
    "#Creating the NN\n",
    "import torch.nn.functional as F\n",
    "from sklearn.metrics import roc_auc_score"
   ]
  },
  {
   "cell_type": "code",
   "execution_count": 14,
   "metadata": {
    "execution": {
     "iopub.execute_input": "2021-08-21T01:02:20.166466Z",
     "iopub.status.busy": "2021-08-21T01:02:20.166062Z",
     "iopub.status.idle": "2021-08-21T01:02:20.200329Z",
     "shell.execute_reply": "2021-08-21T01:02:20.199306Z",
     "shell.execute_reply.started": "2021-08-21T01:02:20.166434Z"
    },
    "id": "Rjr_1PQf2TmI"
   },
   "outputs": [],
   "source": [
    "class Net(torch.nn.Module):\n",
    "    def __init__(self):\n",
    "        super(Net, self).__init__()\n",
    "        \n",
    "        self.conv1 = GCNConv(165, 128)\n",
    "        self.conv2 = GCNConv(128, 128)\n",
    "        self.conv3 = GCNConv(64, 64)\n",
    "        self.conv4 = GCNConv(128, 1) \n",
    "\n",
    "    def forward(self, data, adj=None):\n",
    "        x, edge_index = data.x, data.edge_index\n",
    "        x = self.conv1(x, edge_index)\n",
    "        x = F.relu(x)\n",
    "        x = F.dropout(x, p=0.1, training=self.training)\n",
    "        x = self.conv4(x, edge_index)\n",
    "\n",
    "        return F.sigmoid(x)"
   ]
  },
  {
   "cell_type": "code",
   "execution_count": 15,
   "metadata": {
    "execution": {
     "iopub.execute_input": "2021-08-21T01:02:20.202006Z",
     "iopub.status.busy": "2021-08-21T01:02:20.201709Z",
     "iopub.status.idle": "2021-08-21T01:03:12.020274Z",
     "shell.execute_reply": "2021-08-21T01:03:12.017273Z",
     "shell.execute_reply.started": "2021-08-21T01:02:20.201979Z"
    },
    "id": "_41H9jZyvRMK",
    "outputId": "7b4cb5f4-3c87-4230-aeab-156c7fd734a7"
   },
   "outputs": [],
   "source": [
    "device = torch.device('cuda' if torch.cuda.is_available() else 'cpu')\n",
    "model = Net().to(device)\n",
    "model.double()\n",
    "data_train = data_train.to(device)\n",
    "optimizer = torch.optim.Adam(model.parameters(), lr=0.01, weight_decay=1e-5)\n",
    "scheduler = torch.optim.lr_scheduler.ReduceLROnPlateau(optimizer, 'min')\n",
    "criterion = torch.nn.BCELoss()"
   ]
  },
  {
   "cell_type": "code",
   "execution_count": 29,
   "metadata": {
    "execution": {
     "iopub.execute_input": "2021-08-21T01:33:34.093138Z",
     "iopub.status.busy": "2021-08-21T01:33:34.092680Z",
     "iopub.status.idle": "2021-08-21T01:39:37.276034Z",
     "shell.execute_reply": "2021-08-21T01:39:37.275087Z",
     "shell.execute_reply.started": "2021-08-21T01:33:34.093101Z"
    },
    "id": "_41H9jZyvRMK",
    "outputId": "7b4cb5f4-3c87-4230-aeab-156c7fd734a7"
   },
   "outputs": [
    {
     "name": "stdout",
     "output_type": "stream",
     "text": [
      "epoch: 0 - loss: 0.2806950015047342 - roc: 0.8821384432724033\n",
      "epoch: 5 - loss: 0.24914204535005088 - roc: 0.9024000044994993\n",
      "epoch: 10 - loss: 0.22147972764113047 - roc: 0.9171165779382999\n",
      "epoch: 15 - loss: 0.2079218063063058 - roc: 0.9238546650718571\n",
      "epoch: 20 - loss: 0.19812178579630446 - roc: 0.9301594289717945\n",
      "epoch: 25 - loss: 0.18755162975077427 - roc: 0.9360718420436865\n",
      "epoch: 30 - loss: 0.18057120073127006 - roc: 0.9391558472602064\n",
      "epoch: 35 - loss: 0.17428203801932188 - roc: 0.9424898254637855\n",
      "epoch: 40 - loss: 0.16954609694028303 - roc: 0.9447036617313557\n",
      "epoch: 45 - loss: 0.16320693971653444 - roc: 0.948545442637806\n",
      "epoch: 50 - loss: 0.15843770450271175 - roc: 0.9503438072611655\n",
      "epoch: 55 - loss: 0.1549268236805195 - roc: 0.9518304684926767\n",
      "epoch: 60 - loss: 0.14940371248163611 - roc: 0.9545079314836429\n",
      "epoch: 65 - loss: 0.14453998717771507 - roc: 0.956878692137041\n"
     ]
    }
   ],
   "source": [
    "model.train()\n",
    "\n",
    "cum_loss = []\n",
    "cum_auc = []\n",
    "\n",
    "for epoch in range(70):\n",
    "    optimizer.zero_grad()\n",
    "    out = model(data_train)\n",
    "    out = out.reshape((data_train.x.shape[0]))\n",
    "    loss = criterion(out[train_idx], data_train.y[train_idx])\n",
    "    auc = roc_auc_score(data_train.y.detach().cpu().numpy()[train_idx], out.detach().cpu().numpy()[train_idx]) \n",
    "    loss.backward()\n",
    "    optimizer.step()\n",
    "    \n",
    "    cum_loss.append(loss)\n",
    "    cum_auc.append(auc)\n",
    "    \n",
    "    if epoch%5 == 0:\n",
    "      print(\"epoch: {} - loss: {} - roc: {}\".format(epoch, loss.item(), auc))"
   ]
  },
  {
   "cell_type": "code",
   "execution_count": 30,
   "metadata": {
    "execution": {
     "iopub.execute_input": "2021-08-21T01:40:28.369269Z",
     "iopub.status.busy": "2021-08-21T01:40:28.368895Z",
     "iopub.status.idle": "2021-08-21T01:40:30.810054Z",
     "shell.execute_reply": "2021-08-21T01:40:30.808990Z",
     "shell.execute_reply.started": "2021-08-21T01:40:28.369240Z"
    },
    "id": "lYxjqP4U2f0S"
   },
   "outputs": [],
   "source": [
    "preds = model(data_train)\n",
    "preds = preds.detach().cpu().numpy()"
   ]
  },
  {
   "cell_type": "code",
   "execution_count": 31,
   "metadata": {
    "execution": {
     "iopub.execute_input": "2021-08-21T01:41:51.583086Z",
     "iopub.status.busy": "2021-08-21T01:41:51.582701Z",
     "iopub.status.idle": "2021-08-21T01:41:51.613695Z",
     "shell.execute_reply": "2021-08-21T01:41:51.612750Z",
     "shell.execute_reply.started": "2021-08-21T01:41:51.583055Z"
    },
    "id": "VuFVOba1Sp9A",
    "outputId": "3492f545-0177-4b93-c8da-b25da812d46a"
   },
   "outputs": [
    {
     "name": "stdout",
     "output_type": "stream",
     "text": [
      "train accuracy:  0.9513883625154754\n",
      "train AUC:  0.95812563616672\n"
     ]
    }
   ],
   "source": [
    "from sklearn.metrics import accuracy_score\n",
    "out_labels = preds > 0.6\n",
    "train_acc = accuracy_score(data_train.y.detach().cpu().numpy()[train_idx], out_labels[train_idx])\n",
    "train_auc = roc_auc_score(data_train.y.detach().cpu().numpy()[train_idx], preds[train_idx])\n",
    "print(\"train accuracy: \", train_acc)\n",
    "print(\"train AUC: \", train_auc)"
   ]
  },
  {
   "cell_type": "code",
   "execution_count": 32,
   "metadata": {
    "execution": {
     "iopub.execute_input": "2021-08-21T01:41:55.039593Z",
     "iopub.status.busy": "2021-08-21T01:41:55.039220Z",
     "iopub.status.idle": "2021-08-21T01:41:55.052814Z",
     "shell.execute_reply": "2021-08-21T01:41:55.051599Z",
     "shell.execute_reply.started": "2021-08-21T01:41:55.039561Z"
    },
    "id": "gYkbMHzKBkop",
    "outputId": "1bdcaaa4-6394-4986-c98d-5883a2c200ec"
   },
   "outputs": [
    {
     "name": "stdout",
     "output_type": "stream",
     "text": [
      "valid accuracy:  0.9501789549033643\n",
      "valid AUC:  0.9467022871853137\n"
     ]
    }
   ],
   "source": [
    "valid_auc = roc_auc_score(data_train.y.detach().cpu().numpy()[valid_idx], preds[valid_idx])\n",
    "out_labels = out.detach().cpu().numpy() > 0.6\n",
    "valid_acc = accuracy_score(data_train.y.detach().cpu().numpy()[valid_idx], out_labels[valid_idx])\n",
    "print(\"valid accuracy: \", valid_acc)\n",
    "print(\"valid AUC: \", valid_auc)"
   ]
  },
  {
   "cell_type": "code",
   "execution_count": 34,
   "metadata": {
    "execution": {
     "iopub.execute_input": "2021-08-21T01:42:17.261052Z",
     "iopub.status.busy": "2021-08-21T01:42:17.260707Z",
     "iopub.status.idle": "2021-08-21T01:42:17.267692Z",
     "shell.execute_reply": "2021-08-21T01:42:17.266698Z",
     "shell.execute_reply.started": "2021-08-21T01:42:17.261024Z"
    },
    "id": "yIytiwE4DmUT",
    "outputId": "0f88d217-18e9-48a8-ae93-bf5235f11a78"
   },
   "outputs": [
    {
     "data": {
      "text/plain": [
       "10564"
      ]
     },
     "execution_count": 34,
     "metadata": {},
     "output_type": "execute_result"
    }
   ],
   "source": [
    "# total predicted illicit (positives) in test set\n",
    "out_labels[unclassified_idx].sum()"
   ]
  },
  {
   "cell_type": "code",
   "execution_count": 33,
   "metadata": {
    "execution": {
     "iopub.execute_input": "2021-08-21T01:42:15.213303Z",
     "iopub.status.busy": "2021-08-21T01:42:15.212794Z",
     "iopub.status.idle": "2021-08-21T01:42:15.219354Z",
     "shell.execute_reply": "2021-08-21T01:42:15.218448Z",
     "shell.execute_reply.started": "2021-08-21T01:42:15.213269Z"
    },
    "id": "HswFvuso71N1",
    "outputId": "e08c8b6f-ba11-4428-f0a0-d1e70aa96b83"
   },
   "outputs": [
    {
     "data": {
      "text/plain": [
       "468"
      ]
     },
     "execution_count": 33,
     "metadata": {},
     "output_type": "execute_result"
    }
   ],
   "source": [
    "# total predicted positives in validation set\n",
    "out_labels[valid_idx].sum()"
   ]
  },
  {
   "cell_type": "code",
   "execution_count": 35,
   "metadata": {
    "execution": {
     "iopub.execute_input": "2021-08-21T01:42:25.758467Z",
     "iopub.status.busy": "2021-08-21T01:42:25.758079Z",
     "iopub.status.idle": "2021-08-21T01:42:25.801211Z",
     "shell.execute_reply": "2021-08-21T01:42:25.800336Z",
     "shell.execute_reply.started": "2021-08-21T01:42:25.758440Z"
    },
    "id": "p0RO7CM72h8e",
    "outputId": "402aae83-9666-4d1d-81d5-7382e034e0b0"
   },
   "outputs": [
    {
     "data": {
      "text/plain": [
       "array([[6236,   67],\n",
       "       [ 281,  401]])"
      ]
     },
     "execution_count": 35,
     "metadata": {},
     "output_type": "execute_result"
    }
   ],
   "source": [
    "from sklearn.metrics import roc_curve, confusion_matrix\n",
    "# confusion matrix for validation data\n",
    "cm = confusion_matrix(data_train.y.detach().cpu().numpy()[valid_idx], out_labels[valid_idx])\n",
    "cm"
   ]
  },
  {
   "cell_type": "code",
   "execution_count": 36,
   "metadata": {
    "execution": {
     "iopub.execute_input": "2021-08-21T01:42:27.861026Z",
     "iopub.status.busy": "2021-08-21T01:42:27.860566Z",
     "iopub.status.idle": "2021-08-21T01:42:28.034117Z",
     "shell.execute_reply": "2021-08-21T01:42:28.032755Z",
     "shell.execute_reply.started": "2021-08-21T01:42:27.860990Z"
    },
    "id": "T8Le8GUuB4nM",
    "outputId": "4d12722c-522d-44d5-e40a-fa887f865af6"
   },
   "outputs": [
    {
     "data": {
      "text/plain": [
       "array([[35404,   312],\n",
       "       [ 1619,  2244]])"
      ]
     },
     "execution_count": 36,
     "metadata": {},
     "output_type": "execute_result"
    }
   ],
   "source": [
    "# confusion matrix for train data\n",
    "cm = confusion_matrix(data_train.y.detach().cpu().numpy()[train_idx], out_labels[train_idx])\n",
    "cm"
   ]
  },
  {
   "cell_type": "code",
   "execution_count": 43,
   "metadata": {
    "execution": {
     "iopub.execute_input": "2021-08-21T01:48:23.294727Z",
     "iopub.status.busy": "2021-08-21T01:48:23.294303Z",
     "iopub.status.idle": "2021-08-21T01:48:23.513387Z",
     "shell.execute_reply": "2021-08-21T01:48:23.512265Z",
     "shell.execute_reply.started": "2021-08-21T01:48:23.294695Z"
    },
    "id": "sES35_kMX95G"
   },
   "outputs": [],
   "source": [
    "import matplotlib.pyplot as plt\n",
    "import seaborn as sns; sns.set()\n",
    "\n",
    "epoch_nums = range(0,70)"
   ]
  },
  {
   "cell_type": "code",
   "execution_count": 43,
   "metadata": {
    "execution": {
     "iopub.execute_input": "2021-08-21T01:48:23.294727Z",
     "iopub.status.busy": "2021-08-21T01:48:23.294303Z",
     "iopub.status.idle": "2021-08-21T01:48:23.513387Z",
     "shell.execute_reply": "2021-08-21T01:48:23.512265Z",
     "shell.execute_reply.started": "2021-08-21T01:48:23.294695Z"
    },
    "id": "sES35_kMX95G"
   },
   "outputs": [
    {
     "data": {
      "image/png": "[encoded data removed]",
      "text/plain": [
       "<Figure size 432x288 with 1 Axes>"
      ]
     },
     "metadata": {},
     "output_type": "display_data"
    }
   ],
   "source": [
    "#Visualizing my data\n",
    "\n",
    "plt.plot(epoch_nums,cum_loss)\n",
    "plt.xlabel('Epochs')\n",
    "plt.ylabel('Loss')\n",
    "plt.title('Change in Loss over Epochs')\n",
    "plt.show()"
   ]
  },
  {
   "cell_type": "code",
   "execution_count": 44,
   "metadata": {
    "execution": {
     "iopub.execute_input": "2021-08-21T01:49:10.322840Z",
     "iopub.status.busy": "2021-08-21T01:49:10.322227Z",
     "iopub.status.idle": "2021-08-21T01:49:10.534230Z",
     "shell.execute_reply": "2021-08-21T01:49:10.533549Z",
     "shell.execute_reply.started": "2021-08-21T01:49:10.322801Z"
    }
   },
   "outputs": [
    {
     "data": {
      "image/png": "[encoded data removed]",
      "text/plain": [
       "<Figure size 432x288 with 1 Axes>"
      ]
     },
     "metadata": {},
     "output_type": "display_data"
    }
   ],
   "source": [
    "plt.plot(epoch_nums,cum_auc)\n",
    "plt.xlabel('Epochs')\n",
    "plt.ylabel('AUC')\n",
    "plt.title('Change in AUC score over Epochs')\n",
    "plt.show()"
   ]
  },
  {
   "cell_type": "code",
   "execution_count": null,
   "metadata": {},
   "outputs": [],
   "source": []
  }
 ],
 "metadata": {
  "kernelspec": {
   "display_name": "Python 3",
   "language": "python",
   "name": "python3"
  },
  "language_info": {
   "codemirror_mode": {
    "name": "ipython",
    "version": 3
   },
   "file_extension": ".py",
   "mimetype": "text/x-python",
   "name": "python",
   "nbconvert_exporter": "python",
   "pygments_lexer": "ipython3",
   "version": "3.8.2"
  }
 },
 "nbformat": 4,
 "nbformat_minor": 4
}
