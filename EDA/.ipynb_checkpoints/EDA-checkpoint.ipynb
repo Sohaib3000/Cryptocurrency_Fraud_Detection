{
 "cells": [
  {
   "cell_type": "code",
   "execution_count": 1,
   "id": "736ca968-098d-4cce-9be4-29433ebcdbd6",
   "metadata": {},
   "outputs": [
    {
     "name": "stdout",
     "output_type": "stream",
     "text": [
      "Archive:  archive.zip\n",
      "  inflating: Data/elliptic_bitcoin_dataset/elliptic_txs_classes.csv  \n",
      "  inflating: Data/elliptic_bitcoin_dataset/elliptic_txs_edgelist.csv  \n",
      "  inflating: Data/elliptic_bitcoin_dataset/elliptic_txs_features.csv  \n"
     ]
    }
   ],
   "source": [
    "!unzip archive.zip -d Data"
   ]
  },
  {
   "cell_type": "code",
   "execution_count": 1,
   "id": "789a9aa5-ceed-4baa-b4fd-af3dac937aaa",
   "metadata": {},
   "outputs": [],
   "source": [
    "import pandas as pd\n",
    "import numpy as np"
   ]
  },
  {
   "cell_type": "code",
   "execution_count": null,
   "id": "1beeb461-aa13-499f-8802-a9216435ede2",
   "metadata": {},
   "outputs": [],
   "source": [
    "df = pd.re"
   ]
  }
 ],
 "metadata": {
  "kernelspec": {
   "display_name": "Python 3",
   "language": "python",
   "name": "python3"
  },
  "language_info": {
   "codemirror_mode": {
    "name": "ipython",
    "version": 3
   },
   "file_extension": ".py",
   "mimetype": "text/x-python",
   "name": "python",
   "nbconvert_exporter": "python",
   "pygments_lexer": "ipython3",
   "version": "3.8.2"
  }
 },
 "nbformat": 4,
 "nbformat_minor": 5
}
